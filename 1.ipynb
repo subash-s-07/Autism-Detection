{
 "cells": [
  {
   "cell_type": "code",
   "execution_count": 2,
   "metadata": {},
   "outputs": [],
   "source": [
    "import pandas as pd\n",
    "import matplotlib.pyplot as plt\n",
    "import plotly.express as px\n",
    "import seaborn as sns\n",
    "from sklearn.metrics import RocCurveDisplay\n",
    "import plotly.figure_factory as ff\n",
    "from scipy import stats"
   ]
  },
  {
   "cell_type": "code",
   "execution_count": 25,
   "metadata": {},
   "outputs": [],
   "source": [
    "data=pd.read_csv('Dav_data.csv')"
   ]
  },
  {
   "cell_type": "code",
   "execution_count": 26,
   "metadata": {},
   "outputs": [
    {
     "data": {
      "text/html": [
       "<div>\n",
       "<style scoped>\n",
       "    .dataframe tbody tr th:only-of-type {\n",
       "        vertical-align: middle;\n",
       "    }\n",
       "\n",
       "    .dataframe tbody tr th {\n",
       "        vertical-align: top;\n",
       "    }\n",
       "\n",
       "    .dataframe thead th {\n",
       "        text-align: right;\n",
       "    }\n",
       "</style>\n",
       "<table border=\"1\" class=\"dataframe\">\n",
       "  <thead>\n",
       "    <tr style=\"text-align: right;\">\n",
       "      <th></th>\n",
       "      <th>Unnamed: 0</th>\n",
       "      <th>A1_Score</th>\n",
       "      <th>A2_Score</th>\n",
       "      <th>A3_Score</th>\n",
       "      <th>A4_Score</th>\n",
       "      <th>A5_Score</th>\n",
       "      <th>A6_Score</th>\n",
       "      <th>A7_Score</th>\n",
       "      <th>A8_Score</th>\n",
       "      <th>A9_Score</th>\n",
       "      <th>...</th>\n",
       "      <th>gender</th>\n",
       "      <th>ethnicity</th>\n",
       "      <th>jaundice</th>\n",
       "      <th>austim</th>\n",
       "      <th>contry_of_res</th>\n",
       "      <th>used_app_before</th>\n",
       "      <th>result</th>\n",
       "      <th>age_desc</th>\n",
       "      <th>relation</th>\n",
       "      <th>Class/ASD</th>\n",
       "    </tr>\n",
       "  </thead>\n",
       "  <tbody>\n",
       "    <tr>\n",
       "      <th>0</th>\n",
       "      <td>0</td>\n",
       "      <td>1</td>\n",
       "      <td>0</td>\n",
       "      <td>1</td>\n",
       "      <td>1</td>\n",
       "      <td>1</td>\n",
       "      <td>1</td>\n",
       "      <td>0</td>\n",
       "      <td>1</td>\n",
       "      <td>1</td>\n",
       "      <td>...</td>\n",
       "      <td>f</td>\n",
       "      <td>White-European</td>\n",
       "      <td>no</td>\n",
       "      <td>no</td>\n",
       "      <td>United States</td>\n",
       "      <td>no</td>\n",
       "      <td>7.819715</td>\n",
       "      <td>18 and more</td>\n",
       "      <td>Self</td>\n",
       "      <td>0</td>\n",
       "    </tr>\n",
       "    <tr>\n",
       "      <th>1</th>\n",
       "      <td>3</td>\n",
       "      <td>0</td>\n",
       "      <td>0</td>\n",
       "      <td>0</td>\n",
       "      <td>1</td>\n",
       "      <td>0</td>\n",
       "      <td>0</td>\n",
       "      <td>0</td>\n",
       "      <td>0</td>\n",
       "      <td>0</td>\n",
       "      <td>...</td>\n",
       "      <td>f</td>\n",
       "      <td>South Asian</td>\n",
       "      <td>no</td>\n",
       "      <td>no</td>\n",
       "      <td>New Zealand</td>\n",
       "      <td>no</td>\n",
       "      <td>1.530098</td>\n",
       "      <td>18 and more</td>\n",
       "      <td>Self</td>\n",
       "      <td>0</td>\n",
       "    </tr>\n",
       "    <tr>\n",
       "      <th>2</th>\n",
       "      <td>6</td>\n",
       "      <td>1</td>\n",
       "      <td>1</td>\n",
       "      <td>1</td>\n",
       "      <td>1</td>\n",
       "      <td>1</td>\n",
       "      <td>1</td>\n",
       "      <td>0</td>\n",
       "      <td>1</td>\n",
       "      <td>0</td>\n",
       "      <td>...</td>\n",
       "      <td>f</td>\n",
       "      <td>White-European</td>\n",
       "      <td>no</td>\n",
       "      <td>no</td>\n",
       "      <td>Canada</td>\n",
       "      <td>no</td>\n",
       "      <td>12.598583</td>\n",
       "      <td>18 and more</td>\n",
       "      <td>Self</td>\n",
       "      <td>0</td>\n",
       "    </tr>\n",
       "    <tr>\n",
       "      <th>3</th>\n",
       "      <td>7</td>\n",
       "      <td>0</td>\n",
       "      <td>0</td>\n",
       "      <td>0</td>\n",
       "      <td>0</td>\n",
       "      <td>0</td>\n",
       "      <td>0</td>\n",
       "      <td>0</td>\n",
       "      <td>0</td>\n",
       "      <td>0</td>\n",
       "      <td>...</td>\n",
       "      <td>m</td>\n",
       "      <td>Middle Eastern</td>\n",
       "      <td>yes</td>\n",
       "      <td>no</td>\n",
       "      <td>United Arab Emirates</td>\n",
       "      <td>no</td>\n",
       "      <td>3.525720</td>\n",
       "      <td>18 and more</td>\n",
       "      <td>Self</td>\n",
       "      <td>0</td>\n",
       "    </tr>\n",
       "    <tr>\n",
       "      <th>4</th>\n",
       "      <td>8</td>\n",
       "      <td>1</td>\n",
       "      <td>1</td>\n",
       "      <td>1</td>\n",
       "      <td>1</td>\n",
       "      <td>1</td>\n",
       "      <td>1</td>\n",
       "      <td>1</td>\n",
       "      <td>1</td>\n",
       "      <td>1</td>\n",
       "      <td>...</td>\n",
       "      <td>f</td>\n",
       "      <td>White-European</td>\n",
       "      <td>yes</td>\n",
       "      <td>no</td>\n",
       "      <td>United Kingdom</td>\n",
       "      <td>no</td>\n",
       "      <td>11.902461</td>\n",
       "      <td>18 and more</td>\n",
       "      <td>Self</td>\n",
       "      <td>1</td>\n",
       "    </tr>\n",
       "    <tr>\n",
       "      <th>...</th>\n",
       "      <td>...</td>\n",
       "      <td>...</td>\n",
       "      <td>...</td>\n",
       "      <td>...</td>\n",
       "      <td>...</td>\n",
       "      <td>...</td>\n",
       "      <td>...</td>\n",
       "      <td>...</td>\n",
       "      <td>...</td>\n",
       "      <td>...</td>\n",
       "      <td>...</td>\n",
       "      <td>...</td>\n",
       "      <td>...</td>\n",
       "      <td>...</td>\n",
       "      <td>...</td>\n",
       "      <td>...</td>\n",
       "      <td>...</td>\n",
       "      <td>...</td>\n",
       "      <td>...</td>\n",
       "      <td>...</td>\n",
       "      <td>...</td>\n",
       "    </tr>\n",
       "    <tr>\n",
       "      <th>623</th>\n",
       "      <td>794</td>\n",
       "      <td>0</td>\n",
       "      <td>0</td>\n",
       "      <td>1</td>\n",
       "      <td>1</td>\n",
       "      <td>1</td>\n",
       "      <td>1</td>\n",
       "      <td>1</td>\n",
       "      <td>1</td>\n",
       "      <td>1</td>\n",
       "      <td>...</td>\n",
       "      <td>m</td>\n",
       "      <td>Pasifika</td>\n",
       "      <td>no</td>\n",
       "      <td>no</td>\n",
       "      <td>Viet Nam</td>\n",
       "      <td>no</td>\n",
       "      <td>11.280522</td>\n",
       "      <td>18 and more</td>\n",
       "      <td>Self</td>\n",
       "      <td>0</td>\n",
       "    </tr>\n",
       "    <tr>\n",
       "      <th>624</th>\n",
       "      <td>795</td>\n",
       "      <td>1</td>\n",
       "      <td>1</td>\n",
       "      <td>1</td>\n",
       "      <td>1</td>\n",
       "      <td>1</td>\n",
       "      <td>1</td>\n",
       "      <td>1</td>\n",
       "      <td>1</td>\n",
       "      <td>1</td>\n",
       "      <td>...</td>\n",
       "      <td>f</td>\n",
       "      <td>White-European</td>\n",
       "      <td>no</td>\n",
       "      <td>yes</td>\n",
       "      <td>United States</td>\n",
       "      <td>no</td>\n",
       "      <td>13.390868</td>\n",
       "      <td>18 and more</td>\n",
       "      <td>Self</td>\n",
       "      <td>1</td>\n",
       "    </tr>\n",
       "    <tr>\n",
       "      <th>625</th>\n",
       "      <td>797</td>\n",
       "      <td>0</td>\n",
       "      <td>0</td>\n",
       "      <td>0</td>\n",
       "      <td>0</td>\n",
       "      <td>0</td>\n",
       "      <td>0</td>\n",
       "      <td>1</td>\n",
       "      <td>0</td>\n",
       "      <td>1</td>\n",
       "      <td>...</td>\n",
       "      <td>m</td>\n",
       "      <td>White-European</td>\n",
       "      <td>yes</td>\n",
       "      <td>no</td>\n",
       "      <td>Jordan</td>\n",
       "      <td>no</td>\n",
       "      <td>6.805509</td>\n",
       "      <td>18 and more</td>\n",
       "      <td>Self</td>\n",
       "      <td>1</td>\n",
       "    </tr>\n",
       "    <tr>\n",
       "      <th>626</th>\n",
       "      <td>798</td>\n",
       "      <td>1</td>\n",
       "      <td>1</td>\n",
       "      <td>1</td>\n",
       "      <td>1</td>\n",
       "      <td>1</td>\n",
       "      <td>1</td>\n",
       "      <td>0</td>\n",
       "      <td>1</td>\n",
       "      <td>1</td>\n",
       "      <td>...</td>\n",
       "      <td>f</td>\n",
       "      <td>Middle Eastern</td>\n",
       "      <td>no</td>\n",
       "      <td>yes</td>\n",
       "      <td>United States</td>\n",
       "      <td>no</td>\n",
       "      <td>3.682732</td>\n",
       "      <td>18 and more</td>\n",
       "      <td>Relative</td>\n",
       "      <td>0</td>\n",
       "    </tr>\n",
       "    <tr>\n",
       "      <th>627</th>\n",
       "      <td>799</td>\n",
       "      <td>1</td>\n",
       "      <td>0</td>\n",
       "      <td>0</td>\n",
       "      <td>1</td>\n",
       "      <td>1</td>\n",
       "      <td>0</td>\n",
       "      <td>0</td>\n",
       "      <td>1</td>\n",
       "      <td>1</td>\n",
       "      <td>...</td>\n",
       "      <td>f</td>\n",
       "      <td>Asian</td>\n",
       "      <td>no</td>\n",
       "      <td>no</td>\n",
       "      <td>New Zealand</td>\n",
       "      <td>no</td>\n",
       "      <td>12.060168</td>\n",
       "      <td>18 and more</td>\n",
       "      <td>Self</td>\n",
       "      <td>0</td>\n",
       "    </tr>\n",
       "  </tbody>\n",
       "</table>\n",
       "<p>628 rows × 22 columns</p>\n",
       "</div>"
      ],
      "text/plain": [
       "     Unnamed: 0  A1_Score  A2_Score  A3_Score  A4_Score  A5_Score  A6_Score  \\\n",
       "0             0         1         0         1         1         1         1   \n",
       "1             3         0         0         0         1         0         0   \n",
       "2             6         1         1         1         1         1         1   \n",
       "3             7         0         0         0         0         0         0   \n",
       "4             8         1         1         1         1         1         1   \n",
       "..          ...       ...       ...       ...       ...       ...       ...   \n",
       "623         794         0         0         1         1         1         1   \n",
       "624         795         1         1         1         1         1         1   \n",
       "625         797         0         0         0         0         0         0   \n",
       "626         798         1         1         1         1         1         1   \n",
       "627         799         1         0         0         1         1         0   \n",
       "\n",
       "     A7_Score  A8_Score  A9_Score  ...  gender        ethnicity jaundice  \\\n",
       "0           0         1         1  ...       f   White-European       no   \n",
       "1           0         0         0  ...       f      South Asian       no   \n",
       "2           0         1         0  ...       f   White-European       no   \n",
       "3           0         0         0  ...       m  Middle Eastern       yes   \n",
       "4           1         1         1  ...       f   White-European      yes   \n",
       "..        ...       ...       ...  ...     ...              ...      ...   \n",
       "623         1         1         1  ...       m         Pasifika       no   \n",
       "624         1         1         1  ...       f   White-European       no   \n",
       "625         1         0         1  ...       m   White-European      yes   \n",
       "626         0         1         1  ...       f  Middle Eastern        no   \n",
       "627         0         1         1  ...       f            Asian       no   \n",
       "\n",
       "    austim         contry_of_res used_app_before     result     age_desc  \\\n",
       "0       no         United States              no   7.819715  18 and more   \n",
       "1       no           New Zealand              no   1.530098  18 and more   \n",
       "2       no                Canada              no  12.598583  18 and more   \n",
       "3       no  United Arab Emirates              no   3.525720  18 and more   \n",
       "4       no        United Kingdom              no  11.902461  18 and more   \n",
       "..     ...                   ...             ...        ...          ...   \n",
       "623     no              Viet Nam              no  11.280522  18 and more   \n",
       "624    yes         United States              no  13.390868  18 and more   \n",
       "625     no                Jordan              no   6.805509  18 and more   \n",
       "626    yes         United States              no   3.682732  18 and more   \n",
       "627     no           New Zealand              no  12.060168  18 and more   \n",
       "\n",
       "     relation Class/ASD  \n",
       "0        Self         0  \n",
       "1        Self         0  \n",
       "2        Self         0  \n",
       "3        Self         0  \n",
       "4        Self         1  \n",
       "..        ...       ...  \n",
       "623      Self         0  \n",
       "624      Self         1  \n",
       "625      Self         1  \n",
       "626  Relative         0  \n",
       "627      Self         0  \n",
       "\n",
       "[628 rows x 22 columns]"
      ]
     },
     "execution_count": 26,
     "metadata": {},
     "output_type": "execute_result"
    }
   ],
   "source": [
    "data"
   ]
  },
  {
   "cell_type": "code",
   "execution_count": 33,
   "metadata": {},
   "outputs": [
    {
     "data": {
      "image/png": "[encoded data removed]",
      "text/plain": [
       "<Figure size 1000x600 with 1 Axes>"
      ]
     },
     "metadata": {},
     "output_type": "display_data"
    }
   ],
   "source": [
    "import matplotlib.pyplot as plt\n",
    "import pandas as pd\n",
    "import numpy as np\n",
    "\n",
    "score_features = data.filter(regex='A[0-9]_', axis=1).columns.tolist()\n",
    "\n",
    "# Group by 'Class/ASD' and calculate the mean for score_features\n",
    "mean_scores = data.groupby('Class/ASD')[score_features].mean().T\n",
    "\n",
    "# Create a bar plot\n",
    "ax = mean_scores.plot(kind='bar', figsize=(10, 6), colormap='viridis', width=0.8)\n",
    "\n",
    "# Set plot title and labels\n",
    "plt.title('Mean Score - Autism Spectrum Quotient (AQ) 10 item screening tool')\n",
    "plt.xlabel('AQ Question')\n",
    "plt.ylabel('Mean Score')\n",
    "\n",
    "# Customize x-axis labels\n",
    "x_ticks = np.arange(len(score_features))\n",
    "x_tick_labels = [x.split('_')[0] for x in score_features]\n",
    "plt.xticks(x_ticks, x_tick_labels, rotation=0)\n",
    "\n",
    "# Add data labels above each bar\n",
    "for i, col in enumerate(mean_scores.columns):\n",
    "    for x, y in zip(x_ticks, mean_scores[col]):\n",
    "        plt.text(x, y + 0.1, f'{y:.2f}', ha='center', va='bottom')\n",
    "\n",
    "# Add a legend\n",
    "plt.legend(title='Class/ASD', loc='upper right')\n",
    "\n",
    "plt.gca().set_facecolor('#F8004F')\n",
    "plt.tight_layout()\n",
    "plt.show()\n"
   ]
  },
  {
   "cell_type": "code",
   "execution_count": null,
   "metadata": {},
   "outputs": [],
   "source": []
  },
  {
   "cell_type": "code",
   "execution_count": 82,
   "metadata": {},
   "outputs": [
    {
     "data": {
      "application/vnd.plotly.v1+json": {
       "config": {
        "plotlyServerURL": "https://plot.ly"
       },
       "data": [
        {
         "branchvalues": "total",
         "customdata": [
          [
           0
          ],
          [
           0
          ],
          [
           0
          ],
          [
           0
          ],
          [
           0
          ],
          [
           0
          ],
          [
           0
          ],
          [
           0
          ],
          [
           0
          ],
          [
           0
          ],
          [
           0
          ],
          [
           0
          ],
          [
           0
          ],
          [
           0
          ],
          [
           0
          ],
          [
           0
          ],
          [
           0
          ],
          [
           0
          ],
          [
           0
          ],
          [
           0
          ],
          [
           0
          ],
          [
           0
          ],
          [
           0
          ],
          [
           0
          ],
          [
           0
          ],
          [
           0
          ],
          [
           0
          ],
          [
           0
          ],
          [
           0
          ],
          [
           0
          ],
          [
           0
          ],
          [
           0
          ],
          [
           0
          ],
          [
           0
          ],
          [
           0
          ],
          [
           0
          ],
          [
           0
          ],
          [
           0
          ],
          [
           0
          ],
          [
           0
          ],
          [
           0
          ],
          [
           0
          ],
          [
           0
          ],
          [
           0
          ],
          [
           0
          ],
          [
           0
          ],
          [
           0
          ],
          [
           0
          ],
          [
           0
          ],
          [
           0
          ],
          [
           0
          ],
          [
           0
          ],
          [
           0
          ],
          [
           0
          ],
          [
           0
          ],
          [
           1
          ],
          [
           1
          ],
          [
           1
          ],
          [
           1
          ],
          [
           1
          ],
          [
           1
          ],
          [
           1
          ],
          [
           1
          ],
          [
           1
          ],
          [
           1
          ],
          [
           1
          ],
          [
           1
          ],
          [
           1
          ],
          [
           1
          ],
          [
           1
          ],
          [
           1
          ],
          [
           1
          ],
          [
           1
          ],
          [
           1
          ],
          [
           1
          ],
          [
           1
          ],
          [
           1
          ],
          [
           1
          ],
          [
           1
          ],
          [
           1
          ],
          [
           1
          ],
          [
           1
          ],
          [
           1
          ],
          [
           1
          ],
          [
           1
          ],
          [
           0.058823529411764705
          ],
          [
           0
          ],
          [
           0
          ],
          [
           0
          ],
          [
           0.3333333333333333
          ],
          [
           0.5
          ],
          [
           0.4
          ],
          [
           0.2
          ],
          [
           0
          ],
          [
           0
          ],
          [
           0.3333333333333333
          ],
          [
           0.5
          ],
          [
           0.16666666666666666
          ],
          [
           0.2727272727272727
          ],
          [
           0
          ],
          [
           0
          ],
          [
           1
          ],
          [
           0
          ],
          [
           0
          ],
          [
           0.25
          ],
          [
           0.3333333333333333
          ],
          [
           0
          ],
          [
           0.4
          ],
          [
           0
          ],
          [
           1
          ],
          [
           0
          ],
          [
           0.12903225806451613
          ],
          [
           0
          ],
          [
           0.3333333333333333
          ],
          [
           0.14285714285714285
          ],
          [
           0.5
          ],
          [
           0.1935483870967742
          ],
          [
           0.2
          ],
          [
           0.6666666666666666
          ],
          [
           0
          ],
          [
           0.375
          ],
          [
           0.08571428571428572
          ],
          [
           0.3333333333333333
          ],
          [
           0
          ],
          [
           0
          ],
          [
           0
          ],
          [
           0
          ],
          [
           0.3333333333333333
          ],
          [
           0.125
          ],
          [
           0
          ],
          [
           0
          ],
          [
           0
          ],
          [
           0
          ],
          [
           0
          ],
          [
           0.21428571428571427
          ],
          [
           0
          ],
          [
           0
          ],
          [
           0.08571428571428572
          ],
          [
           0.42
          ],
          [
           0.5084745762711864
          ],
          [
           0
          ],
          [
           0
          ]
         ],
         "domain": {
          "x": [
           0,
           1
          ],
          "y": [
           0,
           1
          ]
         },
         "hovertemplate": "labels=%{label}<br>count=%{value}<br>parent=%{parent}<br>id=%{id}<br>Class/ASD=%{color}<extra></extra>",
         "ids": [
          "Afghanistan/0",
          "AmericanSamoa/0",
          "Angola/0",
          "Argentina/0",
          "Armenia/0",
          "Aruba/0",
          "Australia/0",
          "Austria/0",
          "Bahamas/0",
          "Bangladesh/0",
          "Belgium/0",
          "Bolivia/0",
          "Brazil/0",
          "Canada/0",
          "China/0",
          "Costa Rica/0",
          "Czech Republic/0",
          "Ecuador/0",
          "Egypt/0",
          "Ethiopia/0",
          "Finland/0",
          "France/0",
          "Germany/0",
          "Iceland/0",
          "India/0",
          "Iran/0",
          "Ireland/0",
          "Italy/0",
          "Japan/0",
          "Jordan/0",
          "Kazakhstan/0",
          "Malaysia/0",
          "Mexico/0",
          "Netherlands/0",
          "New Zealand/0",
          "Nicaragua/0",
          "Niger/0",
          "Oman/0",
          "Pakistan/0",
          "Philippines/0",
          "Romania/0",
          "Russia/0",
          "Saudi Arabia/0",
          "Serbia/0",
          "Sierra Leone/0",
          "South Africa/0",
          "Spain/0",
          "Sri Lanka/0",
          "Sweden/0",
          "Ukraine/0",
          "United Arab Emirates/0",
          "United Kingdom/0",
          "United States/0",
          "Uruguay/0",
          "Viet Nam/0",
          "Afghanistan/1",
          "Armenia/1",
          "Aruba/1",
          "Australia/1",
          "Austria/1",
          "Belgium/1",
          "Bolivia/1",
          "Brazil/1",
          "Canada/1",
          "Cyprus/1",
          "Egypt/1",
          "Ethiopia/1",
          "France/1",
          "Hong Kong/1",
          "India/1",
          "Ireland/1",
          "Italy/1",
          "Japan/1",
          "Jordan/1",
          "Kazakhstan/1",
          "Malaysia/1",
          "Netherlands/1",
          "New Zealand/1",
          "Nicaragua/1",
          "Romania/1",
          "Russia/1",
          "Sri Lanka/1",
          "United Arab Emirates/1",
          "United Kingdom/1",
          "United States/1",
          "Afghanistan",
          "AmericanSamoa",
          "Angola",
          "Argentina",
          "Armenia",
          "Aruba",
          "Australia",
          "Austria",
          "Bahamas",
          "Bangladesh",
          "Belgium",
          "Bolivia",
          "Brazil",
          "Canada",
          "China",
          "Costa Rica",
          "Cyprus",
          "Czech Republic",
          "Ecuador",
          "Egypt",
          "Ethiopia",
          "Finland",
          "France",
          "Germany",
          "Hong Kong",
          "Iceland",
          "India",
          "Iran",
          "Ireland",
          "Italy",
          "Japan",
          "Jordan",
          "Kazakhstan",
          "Malaysia",
          "Mexico",
          "Netherlands",
          "New Zealand",
          "Nicaragua",
          "Niger",
          "Oman",
          "Pakistan",
          "Philippines",
          "Romania",
          "Russia",
          "Saudi Arabia",
          "Serbia",
          "Sierra Leone",
          "South Africa",
          "Spain",
          "Sri Lanka",
          "Sweden",
          "Ukraine",
          "United Arab Emirates",
          "United Kingdom",
          "United States",
          "Uruguay",
          "Viet Nam"
         ],
         "labels": [
          "0",
          "0",
          "0",
          "0",
          "0",
          "0",
          "0",
          "0",
          "0",
          "0",
          "0",
          "0",
          "0",
          "0",
          "0",
          "0",
          "0",
          "0",
          "0",
          "0",
          "0",
          "0",
          "0",
          "0",
          "0",
          "0",
          "0",
          "0",
          "0",
          "0",
          "0",
          "0",
          "0",
          "0",
          "0",
          "0",
          "0",
          "0",
          "0",
          "0",
          "0",
          "0",
          "0",
          "0",
          "0",
          "0",
          "0",
          "0",
          "0",
          "0",
          "0",
          "0",
          "0",
          "0",
          "0",
          "1",
          "1",
          "1",
          "1",
          "1",
          "1",
          "1",
          "1",
          "1",
          "1",
          "1",
          "1",
          "1",
          "1",
          "1",
          "1",
          "1",
          "1",
          "1",
          "1",
          "1",
          "1",
          "1",
          "1",
          "1",
          "1",
          "1",
          "1",
          "1",
          "1",
          "Afghanistan",
          "AmericanSamoa",
          "Angola",
          "Argentina",
          "Armenia",
          "Aruba",
          "Australia",
          "Austria",
          "Bahamas",
          "Bangladesh",
          "Belgium",
          "Bolivia",
          "Brazil",
          "Canada",
          "China",
          "Costa Rica",
          "Cyprus",
          "Czech Republic",
          "Ecuador",
          "Egypt",
          "Ethiopia",
          "Finland",
          "France",
          "Germany",
          "Hong Kong",
          "Iceland",
          "India",
          "Iran",
          "Ireland",
          "Italy",
          "Japan",
          "Jordan",
          "Kazakhstan",
          "Malaysia",
          "Mexico",
          "Netherlands",
          "New Zealand",
          "Nicaragua",
          "Niger",
          "Oman",
          "Pakistan",
          "Philippines",
          "Romania",
          "Russia",
          "Saudi Arabia",
          "Serbia",
          "Sierra Leone",
          "South Africa",
          "Spain",
          "Sri Lanka",
          "Sweden",
          "Ukraine",
          "United Arab Emirates",
          "United Kingdom",
          "United States",
          "Uruguay",
          "Viet Nam"
         ],
         "marker": {
          "coloraxis": "coloraxis",
          "colors": [
           0,
           0,
           0,
           0,
           0,
           0,
           0,
           0,
           0,
           0,
           0,
           0,
           0,
           0,
           0,
           0,
           0,
           0,
           0,
           0,
           0,
           0,
           0,
           0,
           0,
           0,
           0,
           0,
           0,
           0,
           0,
           0,
           0,
           0,
           0,
           0,
           0,
           0,
           0,
           0,
           0,
           0,
           0,
           0,
           0,
           0,
           0,
           0,
           0,
           0,
           0,
           0,
           0,
           0,
           0,
           1,
           1,
           1,
           1,
           1,
           1,
           1,
           1,
           1,
           1,
           1,
           1,
           1,
           1,
           1,
           1,
           1,
           1,
           1,
           1,
           1,
           1,
           1,
           1,
           1,
           1,
           1,
           1,
           1,
           1,
           0.058823529411764705,
           0,
           0,
           0,
           0.3333333333333333,
           0.5,
           0.4,
           0.2,
           0,
           0,
           0.3333333333333333,
           0.5,
           0.16666666666666666,
           0.2727272727272727,
           0,
           0,
           1,
           0,
           0,
           0.25,
           0.3333333333333333,
           0,
           0.4,
           0,
           1,
           0,
           0.12903225806451613,
           0,
           0.3333333333333333,
           0.14285714285714285,
           0.5,
           0.1935483870967742,
           0.2,
           0.6666666666666666,
           0,
           0.375,
           0.08571428571428572,
           0.3333333333333333,
           0,
           0,
           0,
           0,
           0.3333333333333333,
           0.125,
           0,
           0,
           0,
           0,
           0,
           0.21428571428571427,
           0,
           0,
           0.08571428571428572,
           0.42,
           0.5084745762711864,
           0,
           0
          ]
         },
         "name": "",
         "parents": [
          "Afghanistan",
          "AmericanSamoa",
          "Angola",
          "Argentina",
          "Armenia",
          "Aruba",
          "Australia",
          "Austria",
          "Bahamas",
          "Bangladesh",
          "Belgium",
          "Bolivia",
          "Brazil",
          "Canada",
          "China",
          "Costa Rica",
          "Czech Republic",
          "Ecuador",
          "Egypt",
          "Ethiopia",
          "Finland",
          "France",
          "Germany",
          "Iceland",
          "India",
          "Iran",
          "Ireland",
          "Italy",
          "Japan",
          "Jordan",
          "Kazakhstan",
          "Malaysia",
          "Mexico",
          "Netherlands",
          "New Zealand",
          "Nicaragua",
          "Niger",
          "Oman",
          "Pakistan",
          "Philippines",
          "Romania",
          "Russia",
          "Saudi Arabia",
          "Serbia",
          "Sierra Leone",
          "South Africa",
          "Spain",
          "Sri Lanka",
          "Sweden",
          "Ukraine",
          "United Arab Emirates",
          "United Kingdom",
          "United States",
          "Uruguay",
          "Viet Nam",
          "Afghanistan",
          "Armenia",
          "Aruba",
          "Australia",
          "Austria",
          "Belgium",
          "Bolivia",
          "Brazil",
          "Canada",
          "Cyprus",
          "Egypt",
          "Ethiopia",
          "France",
          "Hong Kong",
          "India",
          "Ireland",
          "Italy",
          "Japan",
          "Jordan",
          "Kazakhstan",
          "Malaysia",
          "Netherlands",
          "New Zealand",
          "Nicaragua",
          "Romania",
          "Russia",
          "Sri Lanka",
          "United Arab Emirates",
          "United Kingdom",
          "United States",
          "",
          "",
          "",
          "",
          "",
          "",
          "",
          "",
          "",
          "",
          "",
          "",
          "",
          "",
          "",
          "",
          "",
          "",
          "",
          "",
          "",
          "",
          "",
          "",
          "",
          "",
          "",
          "",
          "",
          "",
          "",
          "",
          "",
          "",
          "",
          "",
          "",
          "",
          "",
          "",
          "",
          "",
          "",
          "",
          "",
          "",
          "",
          "",
          "",
          "",
          "",
          "",
          "",
          "",
          "",
          "",
          ""
         ],
         "type": "treemap",
         "values": [
          16,
          1,
          2,
          2,
          4,
          1,
          21,
          8,
          2,
          1,
          2,
          1,
          5,
          8,
          1,
          3,
          3,
          1,
          3,
          2,
          1,
          6,
          3,
          1,
          54,
          4,
          2,
          6,
          1,
          25,
          4,
          1,
          6,
          5,
          64,
          2,
          1,
          1,
          1,
          6,
          2,
          7,
          4,
          1,
          1,
          4,
          2,
          11,
          1,
          1,
          64,
          29,
          58,
          1,
          5,
          1,
          2,
          1,
          14,
          2,
          1,
          1,
          1,
          3,
          1,
          1,
          1,
          4,
          1,
          8,
          1,
          1,
          1,
          6,
          1,
          2,
          3,
          6,
          1,
          1,
          1,
          3,
          6,
          21,
          60,
          17,
          1,
          2,
          2,
          6,
          2,
          35,
          10,
          2,
          1,
          3,
          2,
          6,
          11,
          1,
          3,
          1,
          3,
          1,
          4,
          3,
          1,
          10,
          3,
          1,
          1,
          62,
          4,
          3,
          7,
          2,
          31,
          5,
          3,
          6,
          8,
          70,
          3,
          1,
          1,
          1,
          6,
          3,
          8,
          4,
          1,
          1,
          4,
          2,
          14,
          1,
          1,
          70,
          50,
          118,
          1,
          5
         ]
        }
       ],
       "layout": {
        "autosize": false,
        "coloraxis": {
         "colorbar": {
          "title": {
           "text": "Class/ASD"
          }
         },
         "colorscale": [
          [
           0,
           "rgb(141,211,199)"
          ],
          [
           0.09090909090909091,
           "rgb(255,255,179)"
          ],
          [
           0.18181818181818182,
           "rgb(190,186,218)"
          ],
          [
           0.2727272727272727,
           "rgb(251,128,114)"
          ],
          [
           0.36363636363636365,
           "rgb(128,177,211)"
          ],
          [
           0.45454545454545453,
           "rgb(253,180,98)"
          ],
          [
           0.5454545454545454,
           "rgb(179,222,105)"
          ],
          [
           0.6363636363636364,
           "rgb(252,205,229)"
          ],
          [
           0.7272727272727273,
           "rgb(217,217,217)"
          ],
          [
           0.8181818181818182,
           "rgb(188,128,189)"
          ],
          [
           0.9090909090909091,
           "rgb(204,235,197)"
          ],
          [
           1,
           "rgb(255,237,111)"
          ]
         ]
        },
        "height": 600,
        "legend": {
         "tracegroupgap": 0
        },
        "margin": {
         "b": 100,
         "l": 50,
         "r": 50,
         "t": 50
        },
        "template": {
         "data": {
          "bar": [
           {
            "error_x": {
             "color": "#f2f5fa"
            },
            "error_y": {
             "color": "#f2f5fa"
            },
            "marker": {
             "line": {
              "color": "rgb(17,17,17)",
              "width": 0.5
             },
             "pattern": {
              "fillmode": "overlay",
              "size": 10,
              "solidity": 0.2
             }
            },
            "type": "bar"
           }
          ],
          "barpolar": [
           {
            "marker": {
             "line": {
              "color": "rgb(17,17,17)",
              "width": 0.5
             },
             "pattern": {
              "fillmode": "overlay",
              "size": 10,
              "solidity": 0.2
             }
            },
            "type": "barpolar"
           }
          ],
          "carpet": [
           {
            "aaxis": {
             "endlinecolor": "#A2B1C6",
             "gridcolor": "#506784",
             "linecolor": "#506784",
             "minorgridcolor": "#506784",
             "startlinecolor": "#A2B1C6"
            },
            "baxis": {
             "endlinecolor": "#A2B1C6",
             "gridcolor": "#506784",
             "linecolor": "#506784",
             "minorgridcolor": "#506784",
             "startlinecolor": "#A2B1C6"
            },
            "type": "carpet"
           }
          ],
          "choropleth": [
           {
            "colorbar": {
             "outlinewidth": 0,
             "ticks": ""
            },
            "type": "choropleth"
           }
          ],
          "contour": [
           {
            "colorbar": {
             "outlinewidth": 0,
             "ticks": ""
            },
            "colorscale": [
             [
              0,
              "#0d0887"
             ],
             [
              0.1111111111111111,
              "#46039f"
             ],
             [
              0.2222222222222222,
              "#7201a8"
             ],
             [
              0.3333333333333333,
              "#9c179e"
             ],
             [
              0.4444444444444444,
              "#bd3786"
             ],
             [
              0.5555555555555556,
              "#d8576b"
             ],
             [
              0.6666666666666666,
              "#ed7953"
             ],
             [
              0.7777777777777778,
              "#fb9f3a"
             ],
             [
              0.8888888888888888,
              "#fdca26"
             ],
             [
              1,
              "#f0f921"
             ]
            ],
            "type": "contour"
           }
          ],
          "contourcarpet": [
           {
            "colorbar": {
             "outlinewidth": 0,
             "ticks": ""
            },
            "type": "contourcarpet"
           }
          ],
          "heatmap": [
           {
            "colorbar": {
             "outlinewidth": 0,
             "ticks": ""
            },
            "colorscale": [
             [
              0,
              "#0d0887"
             ],
             [
              0.1111111111111111,
              "#46039f"
             ],
             [
              0.2222222222222222,
              "#7201a8"
             ],
             [
              0.3333333333333333,
              "#9c179e"
             ],
             [
              0.4444444444444444,
              "#bd3786"
             ],
             [
              0.5555555555555556,
              "#d8576b"
             ],
             [
              0.6666666666666666,
              "#ed7953"
             ],
             [
              0.7777777777777778,
              "#fb9f3a"
             ],
             [
              0.8888888888888888,
              "#fdca26"
             ],
             [
              1,
              "#f0f921"
             ]
            ],
            "type": "heatmap"
           }
          ],
          "heatmapgl": [
           {
            "colorbar": {
             "outlinewidth": 0,
             "ticks": ""
            },
            "colorscale": [
             [
              0,
              "#0d0887"
             ],
             [
              0.1111111111111111,
              "#46039f"
             ],
             [
              0.2222222222222222,
              "#7201a8"
             ],
             [
              0.3333333333333333,
              "#9c179e"
             ],
             [
              0.4444444444444444,
              "#bd3786"
             ],
             [
              0.5555555555555556,
              "#d8576b"
             ],
             [
              0.6666666666666666,
              "#ed7953"
             ],
             [
              0.7777777777777778,
              "#fb9f3a"
             ],
             [
              0.8888888888888888,
              "#fdca26"
             ],
             [
              1,
              "#f0f921"
             ]
            ],
            "type": "heatmapgl"
           }
          ],
          "histogram": [
           {
            "marker": {
             "pattern": {
              "fillmode": "overlay",
              "size": 10,
              "solidity": 0.2
             }
            },
            "type": "histogram"
           }
          ],
          "histogram2d": [
           {
            "colorbar": {
             "outlinewidth": 0,
             "ticks": ""
            },
            "colorscale": [
             [
              0,
              "#0d0887"
             ],
             [
              0.1111111111111111,
              "#46039f"
             ],
             [
              0.2222222222222222,
              "#7201a8"
             ],
             [
              0.3333333333333333,
              "#9c179e"
             ],
             [
              0.4444444444444444,
              "#bd3786"
             ],
             [
              0.5555555555555556,
              "#d8576b"
             ],
             [
              0.6666666666666666,
              "#ed7953"
             ],
             [
              0.7777777777777778,
              "#fb9f3a"
             ],
             [
              0.8888888888888888,
              "#fdca26"
             ],
             [
              1,
              "#f0f921"
             ]
            ],
            "type": "histogram2d"
           }
          ],
          "histogram2dcontour": [
           {
            "colorbar": {
             "outlinewidth": 0,
             "ticks": ""
            },
            "colorscale": [
             [
              0,
              "#0d0887"
             ],
             [
              0.1111111111111111,
              "#46039f"
             ],
             [
              0.2222222222222222,
              "#7201a8"
             ],
             [
              0.3333333333333333,
              "#9c179e"
             ],
             [
              0.4444444444444444,
              "#bd3786"
             ],
             [
              0.5555555555555556,
              "#d8576b"
             ],
             [
              0.6666666666666666,
              "#ed7953"
             ],
             [
              0.7777777777777778,
              "#fb9f3a"
             ],
             [
              0.8888888888888888,
              "#fdca26"
             ],
             [
              1,
              "#f0f921"
             ]
            ],
            "type": "histogram2dcontour"
           }
          ],
          "mesh3d": [
           {
            "colorbar": {
             "outlinewidth": 0,
             "ticks": ""
            },
            "type": "mesh3d"
           }
          ],
          "parcoords": [
           {
            "line": {
             "colorbar": {
              "outlinewidth": 0,
              "ticks": ""
             }
            },
            "type": "parcoords"
           }
          ],
          "pie": [
           {
            "automargin": true,
            "type": "pie"
           }
          ],
          "scatter": [
           {
            "marker": {
             "line": {
              "color": "#283442"
             }
            },
            "type": "scatter"
           }
          ],
          "scatter3d": [
           {
            "line": {
             "colorbar": {
              "outlinewidth": 0,
              "ticks": ""
             }
            },
            "marker": {
             "colorbar": {
              "outlinewidth": 0,
              "ticks": ""
             }
            },
            "type": "scatter3d"
           }
          ],
          "scattercarpet": [
           {
            "marker": {
             "colorbar": {
              "outlinewidth": 0,
              "ticks": ""
             }
            },
            "type": "scattercarpet"
           }
          ],
          "scattergeo": [
           {
            "marker": {
             "colorbar": {
              "outlinewidth": 0,
              "ticks": ""
             }
            },
            "type": "scattergeo"
           }
          ],
          "scattergl": [
           {
            "marker": {
             "line": {
              "color": "#283442"
             }
            },
            "type": "scattergl"
           }
          ],
          "scattermapbox": [
           {
            "marker": {
             "colorbar": {
              "outlinewidth": 0,
              "ticks": ""
             }
            },
            "type": "scattermapbox"
           }
          ],
          "scatterpolar": [
           {
            "marker": {
             "colorbar": {
              "outlinewidth": 0,
              "ticks": ""
             }
            },
            "type": "scatterpolar"
           }
          ],
          "scatterpolargl": [
           {
            "marker": {
             "colorbar": {
              "outlinewidth": 0,
              "ticks": ""
             }
            },
            "type": "scatterpolargl"
           }
          ],
          "scatterternary": [
           {
            "marker": {
             "colorbar": {
              "outlinewidth": 0,
              "ticks": ""
             }
            },
            "type": "scatterternary"
           }
          ],
          "surface": [
           {
            "colorbar": {
             "outlinewidth": 0,
             "ticks": ""
            },
            "colorscale": [
             [
              0,
              "#0d0887"
             ],
             [
              0.1111111111111111,
              "#46039f"
             ],
             [
              0.2222222222222222,
              "#7201a8"
             ],
             [
              0.3333333333333333,
              "#9c179e"
             ],
             [
              0.4444444444444444,
              "#bd3786"
             ],
             [
              0.5555555555555556,
              "#d8576b"
             ],
             [
              0.6666666666666666,
              "#ed7953"
             ],
             [
              0.7777777777777778,
              "#fb9f3a"
             ],
             [
              0.8888888888888888,
              "#fdca26"
             ],
             [
              1,
              "#f0f921"
             ]
            ],
            "type": "surface"
           }
          ],
          "table": [
           {
            "cells": {
             "fill": {
              "color": "#506784"
             },
             "line": {
              "color": "rgb(17,17,17)"
             }
            },
            "header": {
             "fill": {
              "color": "#2a3f5f"
             },
             "line": {
              "color": "rgb(17,17,17)"
             }
            },
            "type": "table"
           }
          ]
         },
         "layout": {
          "annotationdefaults": {
           "arrowcolor": "#f2f5fa",
           "arrowhead": 0,
           "arrowwidth": 1
          },
          "autotypenumbers": "strict",
          "coloraxis": {
           "colorbar": {
            "outlinewidth": 0,
            "ticks": ""
           }
          },
          "colorscale": {
           "diverging": [
            [
             0,
             "#8e0152"
            ],
            [
             0.1,
             "#c51b7d"
            ],
            [
             0.2,
             "#de77ae"
            ],
            [
             0.3,
             "#f1b6da"
            ],
            [
             0.4,
             "#fde0ef"
            ],
            [
             0.5,
             "#f7f7f7"
            ],
            [
             0.6,
             "#e6f5d0"
            ],
            [
             0.7,
             "#b8e186"
            ],
            [
             0.8,
             "#7fbc41"
            ],
            [
             0.9,
             "#4d9221"
            ],
            [
             1,
             "#276419"
            ]
           ],
           "sequential": [
            [
             0,
             "#0d0887"
            ],
            [
             0.1111111111111111,
             "#46039f"
            ],
            [
             0.2222222222222222,
             "#7201a8"
            ],
            [
             0.3333333333333333,
             "#9c179e"
            ],
            [
             0.4444444444444444,
             "#bd3786"
            ],
            [
             0.5555555555555556,
             "#d8576b"
            ],
            [
             0.6666666666666666,
             "#ed7953"
            ],
            [
             0.7777777777777778,
             "#fb9f3a"
            ],
            [
             0.8888888888888888,
             "#fdca26"
            ],
            [
             1,
             "#f0f921"
            ]
           ],
           "sequentialminus": [
            [
             0,
             "#0d0887"
            ],
            [
             0.1111111111111111,
             "#46039f"
            ],
            [
             0.2222222222222222,
             "#7201a8"
            ],
            [
             0.3333333333333333,
             "#9c179e"
            ],
            [
             0.4444444444444444,
             "#bd3786"
            ],
            [
             0.5555555555555556,
             "#d8576b"
            ],
            [
             0.6666666666666666,
             "#ed7953"
            ],
            [
             0.7777777777777778,
             "#fb9f3a"
            ],
            [
             0.8888888888888888,
             "#fdca26"
            ],
            [
             1,
             "#f0f921"
            ]
           ]
          },
          "colorway": [
           "#636efa",
           "#EF553B",
           "#00cc96",
           "#ab63fa",
           "#FFA15A",
           "#19d3f3",
           "#FF6692",
           "#B6E880",
           "#FF97FF",
           "#FECB52"
          ],
          "font": {
           "color": "#f2f5fa"
          },
          "geo": {
           "bgcolor": "rgb(17,17,17)",
           "lakecolor": "rgb(17,17,17)",
           "landcolor": "rgb(17,17,17)",
           "showlakes": true,
           "showland": true,
           "subunitcolor": "#506784"
          },
          "hoverlabel": {
           "align": "left"
          },
          "hovermode": "closest",
          "mapbox": {
           "style": "dark"
          },
          "paper_bgcolor": "rgb(17,17,17)",
          "plot_bgcolor": "rgb(17,17,17)",
          "polar": {
           "angularaxis": {
            "gridcolor": "#506784",
            "linecolor": "#506784",
            "ticks": ""
           },
           "bgcolor": "rgb(17,17,17)",
           "radialaxis": {
            "gridcolor": "#506784",
            "linecolor": "#506784",
            "ticks": ""
           }
          },
          "scene": {
           "xaxis": {
            "backgroundcolor": "rgb(17,17,17)",
            "gridcolor": "#506784",
            "gridwidth": 2,
            "linecolor": "#506784",
            "showbackground": true,
            "ticks": "",
            "zerolinecolor": "#C8D4E3"
           },
           "yaxis": {
            "backgroundcolor": "rgb(17,17,17)",
            "gridcolor": "#506784",
            "gridwidth": 2,
            "linecolor": "#506784",
            "showbackground": true,
            "ticks": "",
            "zerolinecolor": "#C8D4E3"
           },
           "zaxis": {
            "backgroundcolor": "rgb(17,17,17)",
            "gridcolor": "#506784",
            "gridwidth": 2,
            "linecolor": "#506784",
            "showbackground": true,
            "ticks": "",
            "zerolinecolor": "#C8D4E3"
           }
          },
          "shapedefaults": {
           "line": {
            "color": "#f2f5fa"
           }
          },
          "sliderdefaults": {
           "bgcolor": "#C8D4E3",
           "bordercolor": "rgb(17,17,17)",
           "borderwidth": 1,
           "tickwidth": 0
          },
          "ternary": {
           "aaxis": {
            "gridcolor": "#506784",
            "linecolor": "#506784",
            "ticks": ""
           },
           "baxis": {
            "gridcolor": "#506784",
            "linecolor": "#506784",
            "ticks": ""
           },
           "bgcolor": "rgb(17,17,17)",
           "caxis": {
            "gridcolor": "#506784",
            "linecolor": "#506784",
            "ticks": ""
           }
          },
          "title": {
           "x": 0.05
          },
          "updatemenudefaults": {
           "bgcolor": "#506784",
           "borderwidth": 0
          },
          "xaxis": {
           "automargin": true,
           "gridcolor": "#283442",
           "linecolor": "#506784",
           "ticks": "",
           "title": {
            "standoff": 15
           },
           "zerolinecolor": "#283442",
           "zerolinewidth": 2
          },
          "yaxis": {
           "automargin": true,
           "gridcolor": "#283442",
           "linecolor": "#506784",
           "ticks": "",
           "title": {
            "standoff": 15
           },
           "zerolinecolor": "#283442",
           "zerolinewidth": 2
          }
         }
        },
        "title": {
         "font": {
          "family": "Sans Serif",
          "size": 20
         },
         "text": "<b>COUNTRY OF RESIDENCE OF THE PATIENT - TREEMAP</b>"
        },
        "treemapcolorway": [
         "rgb(141,211,199)",
         "rgb(255,255,179)",
         "rgb(190,186,218)",
         "rgb(251,128,114)",
         "rgb(128,177,211)",
         "rgb(253,180,98)",
         "rgb(179,222,105)",
         "rgb(252,205,229)",
         "rgb(217,217,217)",
         "rgb(188,128,189)",
         "rgb(204,235,197)",
         "rgb(255,237,111)"
        ],
        "width": 1000
       }
      }
     },
     "metadata": {},
     "output_type": "display_data"
    }
   ],
   "source": [
    "# Define a custom color scale\n",
    "color_scale = px.colors.qualitative.Set3\n",
    "\n",
    "fig = px.treemap(data, \n",
    "                 path=['contry_of_res', 'Class/ASD'], \n",
    "                 color='Class/ASD',\n",
    "                 color_continuous_scale=color_scale,\n",
    "                 labels={'contry_of_res': 'Country of Residence', 'Class/ASD': 'Class/ASD'},\n",
    ")\n",
    "\n",
    "# Update layout and style\n",
    "fig.update_layout(\n",
    "    title=\"<b>COUNTRY OF RESIDENCE OF THE PATIENT - TREEMAP</b>\",\n",
    "    title_font=dict(size=20, family=\"Sans Serif\"),\n",
    "    height=600,\n",
    "    width=1000,\n",
    "    template='plotly_dark',  # Dark background template\n",
    "    autosize=False,\n",
    "    margin=dict(l=50, r=50, b=50, t=100),\n",
    "    treemapcolorway=color_scale,  # Match color scale to data\n",
    ")\n",
    "\n",
    "# Add padding to the top margin for the title\n",
    "fig.update_layout(margin=dict(t=50, l=50, r=50, b=100))\n",
    "\n",
    "# Show the enhanced graph\n",
    "fig.show()\n"
   ]
  },
  {
   "cell_type": "code",
   "execution_count": 57,
   "metadata": {},
   "outputs": [
    {
     "data": {
      "application/vnd.plotly.v1+json": {
       "config": {
        "plotlyServerURL": "https://plot.ly"
       },
       "data": [
        {
         "alignmentgroup": "True",
         "bingroup": "x",
         "histnorm": "percent",
         "hovertemplate": "contry_of_res=%{x}<br>percent=%{y}<extra></extra>",
         "legendgroup": "",
         "marker": {
          "color": [
           "purple",
           "purple",
           "purple",
           "purple",
           "purple",
           "purple",
           "purple",
           "purple",
           "purple",
           "purple",
           "purple",
           "purple",
           "purple",
           "purple",
           "purple",
           "purple",
           "purple",
           "purple",
           "purple",
           "purple",
           "purple",
           "purple",
           "purple",
           "purple",
           "purple",
           "purple",
           "purple",
           "purple",
           "purple",
           "purple",
           "purple",
           "purple",
           "purple",
           "purple",
           "purple",
           "purple",
           "purple",
           "purple",
           "purple",
           "purple",
           "purple",
           "purple",
           "purple",
           "purple",
           "purple",
           "purple",
           "purple",
           "purple",
           "purple",
           "purple",
           "purple",
           "purple",
           "purple",
           "purple",
           "purple",
           "purple",
           "purple",
           "purple",
           "purple",
           "purple",
           "purple",
           "purple",
           "purple",
           "purple",
           "purple",
           "purple",
           "purple",
           "purple",
           "purple",
           "purple",
           "purple",
           "purple",
           "purple",
           "purple",
           "purple",
           "purple",
           "purple",
           "purple",
           "purple",
           "purple",
           "purple",
           "purple",
           "purple",
           "purple",
           "purple",
           "purple",
           "purple",
           "purple",
           "purple",
           "purple",
           "purple",
           "purple",
           "purple",
           "purple",
           "purple",
           "purple",
           "purple",
           "purple",
           "purple",
           "purple"
          ],
          "pattern": {
           "shape": ""
          }
         },
         "name": "",
         "offsetgroup": "",
         "orientation": "v",
         "showlegend": false,
         "type": "histogram",
         "x": [
          "United States",
          "New Zealand",
          "Canada",
          "United Arab Emirates",
          "United Kingdom",
          "Australia",
          "United States",
          "New Zealand",
          "Sri Lanka",
          "Australia",
          "United Arab Emirates",
          "India",
          "New Zealand",
          "United States",
          "Nicaragua",
          "India",
          "New Zealand",
          "Netherlands",
          "United Kingdom",
          "United States",
          "New Zealand",
          "Armenia",
          "Sierra Leone",
          "India",
          "Argentina",
          "Iceland",
          "Egypt",
          "United Arab Emirates",
          "United Arab Emirates",
          "Sri Lanka",
          "United Kingdom",
          "Afghanistan",
          "United States",
          "Costa Rica",
          "United Arab Emirates",
          "United States",
          "Afghanistan",
          "United Arab Emirates",
          "Jordan",
          "India",
          "New Zealand",
          "Australia",
          "Angola",
          "Pakistan",
          "Australia",
          "Brazil",
          "Ireland",
          "United States",
          "United Kingdom",
          "Sri Lanka",
          "Netherlands",
          "India",
          "Viet Nam",
          "Ethiopia",
          "New Zealand",
          "United States",
          "India",
          "Finland",
          "New Zealand",
          "New Zealand",
          "United Arab Emirates",
          "United States",
          "United States",
          "Italy",
          "France",
          "Australia",
          "United Arab Emirates",
          "Australia",
          "United States",
          "United Arab Emirates",
          "Jordan",
          "Netherlands",
          "India",
          "Afghanistan",
          "United States",
          "United Arab Emirates",
          "Malaysia",
          "Afghanistan",
          "United States",
          "India",
          "Sri Lanka",
          "France",
          "New Zealand",
          "Austria",
          "Jordan",
          "New Zealand",
          "United States",
          "United Arab Emirates",
          "United Kingdom",
          "Jordan",
          "United States",
          "United Kingdom",
          "United States",
          "New Zealand",
          "Viet Nam",
          "United Kingdom",
          "New Zealand",
          "France",
          "Jordan",
          "United States",
          "Australia",
          "Australia",
          "Canada",
          "Canada",
          "Jordan",
          "United States",
          "United Kingdom",
          "United Kingdom",
          "United States",
          "United States",
          "Japan",
          "India",
          "New Zealand",
          "United Kingdom",
          "India",
          "India",
          "New Zealand",
          "Austria",
          "Jordan",
          "New Zealand",
          "Netherlands",
          "India",
          "New Zealand",
          "New Zealand",
          "Afghanistan",
          "India",
          "United States",
          "United States",
          "United Kingdom",
          "Viet Nam",
          "United Arab Emirates",
          "United States",
          "India",
          "India",
          "New Zealand",
          "Jordan",
          "Australia",
          "Jordan",
          "Australia",
          "United Kingdom",
          "India",
          "Philippines",
          "Jordan",
          "India",
          "Iran",
          "Afghanistan",
          "Australia",
          "United States",
          "Afghanistan",
          "United Arab Emirates",
          "Jordan",
          "United States",
          "United States",
          "Brazil",
          "Czech Republic",
          "India",
          "India",
          "Jordan",
          "Russia",
          "United Arab Emirates",
          "United Arab Emirates",
          "United States",
          "Canada",
          "Romania",
          "United Arab Emirates",
          "New Zealand",
          "United States",
          "Jordan",
          "United Kingdom",
          "Czech Republic",
          "Australia",
          "United States",
          "United Arab Emirates",
          "Sri Lanka",
          "Mexico",
          "United Kingdom",
          "United States",
          "Australia",
          "Romania",
          "Austria",
          "United States",
          "United States",
          "United Kingdom",
          "United States",
          "United States",
          "Egypt",
          "Belgium",
          "United Arab Emirates",
          "United Arab Emirates",
          "United States",
          "India",
          "United Arab Emirates",
          "Nicaragua",
          "India",
          "India",
          "United Arab Emirates",
          "United States",
          "United Arab Emirates",
          "Sri Lanka",
          "India",
          "Japan",
          "New Zealand",
          "Australia",
          "New Zealand",
          "United Kingdom",
          "Uruguay",
          "Australia",
          "Jordan",
          "New Zealand",
          "United Arab Emirates",
          "Canada",
          "Brazil",
          "United Kingdom",
          "United Arab Emirates",
          "Sri Lanka",
          "India",
          "United Kingdom",
          "Sri Lanka",
          "Australia",
          "Italy",
          "United Arab Emirates",
          "Australia",
          "India",
          "India",
          "Mexico",
          "New Zealand",
          "Austria",
          "United Kingdom",
          "United States",
          "Kazakhstan",
          "New Zealand",
          "United Arab Emirates",
          "India",
          "United Arab Emirates",
          "United Arab Emirates",
          "Australia",
          "Afghanistan",
          "Austria",
          "Italy",
          "India",
          "Russia",
          "New Zealand",
          "United Arab Emirates",
          "United States",
          "India",
          "United States",
          "Jordan",
          "Afghanistan",
          "Jordan",
          "United States",
          "United Kingdom",
          "Germany",
          "Ethiopia",
          "United Arab Emirates",
          "United States",
          "Austria",
          "Jordan",
          "Canada",
          "United States",
          "United States",
          "New Zealand",
          "Mexico",
          "New Zealand",
          "United Kingdom",
          "United States",
          "United Arab Emirates",
          "United Kingdom",
          "France",
          "New Zealand",
          "New Zealand",
          "India",
          "Australia",
          "United Kingdom",
          "Russia",
          "New Zealand",
          "Australia",
          "United Arab Emirates",
          "United Kingdom",
          "Jordan",
          "Canada",
          "New Zealand",
          "Afghanistan",
          "India",
          "United States",
          "Armenia",
          "United States",
          "United Arab Emirates",
          "United States",
          "India",
          "Australia",
          "India",
          "India",
          "New Zealand",
          "Czech Republic",
          "United Arab Emirates",
          "India",
          "United States",
          "India",
          "New Zealand",
          "United Arab Emirates",
          "United States",
          "United Arab Emirates",
          "Belgium",
          "United Arab Emirates",
          "New Zealand",
          "United States",
          "Australia",
          "Australia",
          "Ireland",
          "India",
          "United States",
          "Netherlands",
          "Jordan",
          "Costa Rica",
          "United Kingdom",
          "South Africa",
          "Armenia",
          "Italy",
          "United States",
          "United Kingdom",
          "Aruba",
          "United States",
          "United Arab Emirates",
          "New Zealand",
          "United States",
          "United States",
          "New Zealand",
          "United Arab Emirates",
          "United Kingdom",
          "Australia",
          "United Arab Emirates",
          "New Zealand",
          "Saudi Arabia",
          "India",
          "Jordan",
          "France",
          "Afghanistan",
          "United States",
          "Afghanistan",
          "United States",
          "Australia",
          "United States",
          "Sri Lanka",
          "Hong Kong",
          "United Arab Emirates",
          "United States",
          "New Zealand",
          "India",
          "India",
          "Austria",
          "United States",
          "New Zealand",
          "France",
          "United Kingdom",
          "Jordan",
          "United States",
          "New Zealand",
          "United States",
          "New Zealand",
          "India",
          "Australia",
          "Serbia",
          "Jordan",
          "Russia",
          "United Arab Emirates",
          "India",
          "United States",
          "United States",
          "Austria",
          "United Kingdom",
          "United Kingdom",
          "Philippines",
          "United States",
          "Australia",
          "Iran",
          "Kazakhstan",
          "United States",
          "Ecuador",
          "United Arab Emirates",
          "Belgium",
          "United Arab Emirates",
          "United States",
          "Russia",
          "Romania",
          "Iran",
          "United Arab Emirates",
          "New Zealand",
          "Cyprus",
          "Jordan",
          "New Zealand",
          "United States",
          "Brazil",
          "South Africa",
          "United Arab Emirates",
          "United Arab Emirates",
          "Armenia",
          "China",
          "United States",
          "United Arab Emirates",
          "United Kingdom",
          "United Arab Emirates",
          "Bahamas",
          "New Zealand",
          "United States",
          "United States",
          "Brazil",
          "United Kingdom",
          "United States",
          "United Arab Emirates",
          "Kazakhstan",
          "United Kingdom",
          "United States",
          "New Zealand",
          "Jordan",
          "New Zealand",
          "Ireland",
          "United States",
          "United States",
          "New Zealand",
          "United States",
          "Mexico",
          "New Zealand",
          "United States",
          "Egypt",
          "Egypt",
          "Ethiopia",
          "India",
          "Jordan",
          "Germany",
          "Bangladesh",
          "Oman",
          "United States",
          "United States",
          "Aruba",
          "New Zealand",
          "United States",
          "New Zealand",
          "United Kingdom",
          "New Zealand",
          "Costa Rica",
          "Saudi Arabia",
          "France",
          "South Africa",
          "Netherlands",
          "India",
          "Saudi Arabia",
          "South Africa",
          "United States",
          "New Zealand",
          "Armenia",
          "United Kingdom",
          "United Arab Emirates",
          "India",
          "Australia",
          "United Arab Emirates",
          "Sri Lanka",
          "United States",
          "Bolivia",
          "United Arab Emirates",
          "New Zealand",
          "India",
          "United States",
          "United States",
          "United States",
          "United States",
          "Armenia",
          "India",
          "Italy",
          "Canada",
          "United Kingdom",
          "New Zealand",
          "United Kingdom",
          "Jordan",
          "United Kingdom",
          "India",
          "United States",
          "Jordan",
          "India",
          "Sri Lanka",
          "Philippines",
          "Sweden",
          "United Kingdom",
          "AmericanSamoa",
          "Afghanistan",
          "United Kingdom",
          "Netherlands",
          "United Arab Emirates",
          "Philippines",
          "Ukraine",
          "United States",
          "New Zealand",
          "Italy",
          "United States",
          "Malaysia",
          "United Arab Emirates",
          "Jordan",
          "United Arab Emirates",
          "United States",
          "New Zealand",
          "United States",
          "United Arab Emirates",
          "Malaysia",
          "Afghanistan",
          "Saudi Arabia",
          "United States",
          "United Arab Emirates",
          "United States",
          "United States",
          "New Zealand",
          "Kazakhstan",
          "Italy",
          "United Kingdom",
          "United States",
          "United Arab Emirates",
          "United States",
          "United States",
          "India",
          "United Kingdom",
          "Australia",
          "India",
          "United States",
          "India",
          "New Zealand",
          "New Zealand",
          "United Arab Emirates",
          "Argentina",
          "United Arab Emirates",
          "Canada",
          "India",
          "India",
          "France",
          "Brazil",
          "Australia",
          "Jordan",
          "Sri Lanka",
          "India",
          "United States",
          "India",
          "United States",
          "Australia",
          "New Zealand",
          "New Zealand",
          "United Kingdom",
          "United Kingdom",
          "United Arab Emirates",
          "United Arab Emirates",
          "United Arab Emirates",
          "United States",
          "United States",
          "Bahamas",
          "Mexico",
          "India",
          "Australia",
          "Nicaragua",
          "United States",
          "United Arab Emirates",
          "New Zealand",
          "United States",
          "Viet Nam",
          "New Zealand",
          "United Kingdom",
          "United States",
          "Afghanistan",
          "New Zealand",
          "United Kingdom",
          "France",
          "Netherlands",
          "India",
          "Niger",
          "United States",
          "Australia",
          "United States",
          "Philippines",
          "India",
          "Bolivia",
          "Sri Lanka",
          "Canada",
          "United States",
          "India",
          "India",
          "United States",
          "Jordan",
          "United Arab Emirates",
          "United Arab Emirates",
          "Iran",
          "United Kingdom",
          "Russia",
          "Russia",
          "New Zealand",
          "United States",
          "United States",
          "Germany",
          "Angola",
          "Spain",
          "New Zealand",
          "Australia",
          "Austria",
          "Kazakhstan",
          "Sri Lanka",
          "United States",
          "New Zealand",
          "United States",
          "New Zealand",
          "United Arab Emirates",
          "United Arab Emirates",
          "Afghanistan",
          "Philippines",
          "United States",
          "United States",
          "United Kingdom",
          "Spain",
          "Austria",
          "Canada",
          "France",
          "Australia",
          "United Kingdom",
          "United Kingdom",
          "Afghanistan",
          "United States",
          "India",
          "Russia",
          "United Arab Emirates",
          "Mexico",
          "Viet Nam",
          "United States",
          "Jordan",
          "United States",
          "New Zealand"
         ],
         "xaxis": "x",
         "yaxis": "y"
        }
       ],
       "layout": {
        "barmode": "relative",
        "font": {
         "family": "San Serif"
        },
        "height": 400,
        "legend": {
         "orientation": "v",
         "tracegroupgap": 0,
         "x": 1,
         "xanchor": "right",
         "y": 1,
         "yanchor": "top"
        },
        "margin": {
         "t": 60
        },
        "plot_bgcolor": "lightgreen",
        "template": {
         "data": {
          "bar": [
           {
            "error_x": {
             "color": "rgb(36,36,36)"
            },
            "error_y": {
             "color": "rgb(36,36,36)"
            },
            "marker": {
             "line": {
              "color": "white",
              "width": 0.5
             },
             "pattern": {
              "fillmode": "overlay",
              "size": 10,
              "solidity": 0.2
             }
            },
            "type": "bar"
           }
          ],
          "barpolar": [
           {
            "marker": {
             "line": {
              "color": "white",
              "width": 0.5
             },
             "pattern": {
              "fillmode": "overlay",
              "size": 10,
              "solidity": 0.2
             }
            },
            "type": "barpolar"
           }
          ],
          "carpet": [
           {
            "aaxis": {
             "endlinecolor": "rgb(36,36,36)",
             "gridcolor": "white",
             "linecolor": "white",
             "minorgridcolor": "white",
             "startlinecolor": "rgb(36,36,36)"
            },
            "baxis": {
             "endlinecolor": "rgb(36,36,36)",
             "gridcolor": "white",
             "linecolor": "white",
             "minorgridcolor": "white",
             "startlinecolor": "rgb(36,36,36)"
            },
            "type": "carpet"
           }
          ],
          "choropleth": [
           {
            "colorbar": {
             "outlinewidth": 1,
             "tickcolor": "rgb(36,36,36)",
             "ticks": "outside"
            },
            "type": "choropleth"
           }
          ],
          "contour": [
           {
            "colorbar": {
             "outlinewidth": 1,
             "tickcolor": "rgb(36,36,36)",
             "ticks": "outside"
            },
            "colorscale": [
             [
              0,
              "#440154"
             ],
             [
              0.1111111111111111,
              "#482878"
             ],
             [
              0.2222222222222222,
              "#3e4989"
             ],
             [
              0.3333333333333333,
              "#31688e"
             ],
             [
              0.4444444444444444,
              "#26828e"
             ],
             [
              0.5555555555555556,
              "#1f9e89"
             ],
             [
              0.6666666666666666,
              "#35b779"
             ],
             [
              0.7777777777777778,
              "#6ece58"
             ],
             [
              0.8888888888888888,
              "#b5de2b"
             ],
             [
              1,
              "#fde725"
             ]
            ],
            "type": "contour"
           }
          ],
          "contourcarpet": [
           {
            "colorbar": {
             "outlinewidth": 1,
             "tickcolor": "rgb(36,36,36)",
             "ticks": "outside"
            },
            "type": "contourcarpet"
           }
          ],
          "heatmap": [
           {
            "colorbar": {
             "outlinewidth": 1,
             "tickcolor": "rgb(36,36,36)",
             "ticks": "outside"
            },
            "colorscale": [
             [
              0,
              "#440154"
             ],
             [
              0.1111111111111111,
              "#482878"
             ],
             [
              0.2222222222222222,
              "#3e4989"
             ],
             [
              0.3333333333333333,
              "#31688e"
             ],
             [
              0.4444444444444444,
              "#26828e"
             ],
             [
              0.5555555555555556,
              "#1f9e89"
             ],
             [
              0.6666666666666666,
              "#35b779"
             ],
             [
              0.7777777777777778,
              "#6ece58"
             ],
             [
              0.8888888888888888,
              "#b5de2b"
             ],
             [
              1,
              "#fde725"
             ]
            ],
            "type": "heatmap"
           }
          ],
          "heatmapgl": [
           {
            "colorbar": {
             "outlinewidth": 1,
             "tickcolor": "rgb(36,36,36)",
             "ticks": "outside"
            },
            "colorscale": [
             [
              0,
              "#440154"
             ],
             [
              0.1111111111111111,
              "#482878"
             ],
             [
              0.2222222222222222,
              "#3e4989"
             ],
             [
              0.3333333333333333,
              "#31688e"
             ],
             [
              0.4444444444444444,
              "#26828e"
             ],
             [
              0.5555555555555556,
              "#1f9e89"
             ],
             [
              0.6666666666666666,
              "#35b779"
             ],
             [
              0.7777777777777778,
              "#6ece58"
             ],
             [
              0.8888888888888888,
              "#b5de2b"
             ],
             [
              1,
              "#fde725"
             ]
            ],
            "type": "heatmapgl"
           }
          ],
          "histogram": [
           {
            "marker": {
             "line": {
              "color": "white",
              "width": 0.6
             }
            },
            "type": "histogram"
           }
          ],
          "histogram2d": [
           {
            "colorbar": {
             "outlinewidth": 1,
             "tickcolor": "rgb(36,36,36)",
             "ticks": "outside"
            },
            "colorscale": [
             [
              0,
              "#440154"
             ],
             [
              0.1111111111111111,
              "#482878"
             ],
             [
              0.2222222222222222,
              "#3e4989"
             ],
             [
              0.3333333333333333,
              "#31688e"
             ],
             [
              0.4444444444444444,
              "#26828e"
             ],
             [
              0.5555555555555556,
              "#1f9e89"
             ],
             [
              0.6666666666666666,
              "#35b779"
             ],
             [
              0.7777777777777778,
              "#6ece58"
             ],
             [
              0.8888888888888888,
              "#b5de2b"
             ],
             [
              1,
              "#fde725"
             ]
            ],
            "type": "histogram2d"
           }
          ],
          "histogram2dcontour": [
           {
            "colorbar": {
             "outlinewidth": 1,
             "tickcolor": "rgb(36,36,36)",
             "ticks": "outside"
            },
            "colorscale": [
             [
              0,
              "#440154"
             ],
             [
              0.1111111111111111,
              "#482878"
             ],
             [
              0.2222222222222222,
              "#3e4989"
             ],
             [
              0.3333333333333333,
              "#31688e"
             ],
             [
              0.4444444444444444,
              "#26828e"
             ],
             [
              0.5555555555555556,
              "#1f9e89"
             ],
             [
              0.6666666666666666,
              "#35b779"
             ],
             [
              0.7777777777777778,
              "#6ece58"
             ],
             [
              0.8888888888888888,
              "#b5de2b"
             ],
             [
              1,
              "#fde725"
             ]
            ],
            "type": "histogram2dcontour"
           }
          ],
          "mesh3d": [
           {
            "colorbar": {
             "outlinewidth": 1,
             "tickcolor": "rgb(36,36,36)",
             "ticks": "outside"
            },
            "type": "mesh3d"
           }
          ],
          "parcoords": [
           {
            "line": {
             "colorbar": {
              "outlinewidth": 1,
              "tickcolor": "rgb(36,36,36)",
              "ticks": "outside"
             }
            },
            "type": "parcoords"
           }
          ],
          "pie": [
           {
            "automargin": true,
            "type": "pie"
           }
          ],
          "scatter": [
           {
            "fillpattern": {
             "fillmode": "overlay",
             "size": 10,
             "solidity": 0.2
            },
            "type": "scatter"
           }
          ],
          "scatter3d": [
           {
            "line": {
             "colorbar": {
              "outlinewidth": 1,
              "tickcolor": "rgb(36,36,36)",
              "ticks": "outside"
             }
            },
            "marker": {
             "colorbar": {
              "outlinewidth": 1,
              "tickcolor": "rgb(36,36,36)",
              "ticks": "outside"
             }
            },
            "type": "scatter3d"
           }
          ],
          "scattercarpet": [
           {
            "marker": {
             "colorbar": {
              "outlinewidth": 1,
              "tickcolor": "rgb(36,36,36)",
              "ticks": "outside"
             }
            },
            "type": "scattercarpet"
           }
          ],
          "scattergeo": [
           {
            "marker": {
             "colorbar": {
              "outlinewidth": 1,
              "tickcolor": "rgb(36,36,36)",
              "ticks": "outside"
             }
            },
            "type": "scattergeo"
           }
          ],
          "scattergl": [
           {
            "marker": {
             "colorbar": {
              "outlinewidth": 1,
              "tickcolor": "rgb(36,36,36)",
              "ticks": "outside"
             }
            },
            "type": "scattergl"
           }
          ],
          "scattermapbox": [
           {
            "marker": {
             "colorbar": {
              "outlinewidth": 1,
              "tickcolor": "rgb(36,36,36)",
              "ticks": "outside"
             }
            },
            "type": "scattermapbox"
           }
          ],
          "scatterpolar": [
           {
            "marker": {
             "colorbar": {
              "outlinewidth": 1,
              "tickcolor": "rgb(36,36,36)",
              "ticks": "outside"
             }
            },
            "type": "scatterpolar"
           }
          ],
          "scatterpolargl": [
           {
            "marker": {
             "colorbar": {
              "outlinewidth": 1,
              "tickcolor": "rgb(36,36,36)",
              "ticks": "outside"
             }
            },
            "type": "scatterpolargl"
           }
          ],
          "scatterternary": [
           {
            "marker": {
             "colorbar": {
              "outlinewidth": 1,
              "tickcolor": "rgb(36,36,36)",
              "ticks": "outside"
             }
            },
            "type": "scatterternary"
           }
          ],
          "surface": [
           {
            "colorbar": {
             "outlinewidth": 1,
             "tickcolor": "rgb(36,36,36)",
             "ticks": "outside"
            },
            "colorscale": [
             [
              0,
              "#440154"
             ],
             [
              0.1111111111111111,
              "#482878"
             ],
             [
              0.2222222222222222,
              "#3e4989"
             ],
             [
              0.3333333333333333,
              "#31688e"
             ],
             [
              0.4444444444444444,
              "#26828e"
             ],
             [
              0.5555555555555556,
              "#1f9e89"
             ],
             [
              0.6666666666666666,
              "#35b779"
             ],
             [
              0.7777777777777778,
              "#6ece58"
             ],
             [
              0.8888888888888888,
              "#b5de2b"
             ],
             [
              1,
              "#fde725"
             ]
            ],
            "type": "surface"
           }
          ],
          "table": [
           {
            "cells": {
             "fill": {
              "color": "rgb(237,237,237)"
             },
             "line": {
              "color": "white"
             }
            },
            "header": {
             "fill": {
              "color": "rgb(217,217,217)"
             },
             "line": {
              "color": "white"
             }
            },
            "type": "table"
           }
          ]
         },
         "layout": {
          "annotationdefaults": {
           "arrowhead": 0,
           "arrowwidth": 1
          },
          "autotypenumbers": "strict",
          "coloraxis": {
           "colorbar": {
            "outlinewidth": 1,
            "tickcolor": "rgb(36,36,36)",
            "ticks": "outside"
           }
          },
          "colorscale": {
           "diverging": [
            [
             0,
             "rgb(103,0,31)"
            ],
            [
             0.1,
             "rgb(178,24,43)"
            ],
            [
             0.2,
             "rgb(214,96,77)"
            ],
            [
             0.3,
             "rgb(244,165,130)"
            ],
            [
             0.4,
             "rgb(253,219,199)"
            ],
            [
             0.5,
             "rgb(247,247,247)"
            ],
            [
             0.6,
             "rgb(209,229,240)"
            ],
            [
             0.7,
             "rgb(146,197,222)"
            ],
            [
             0.8,
             "rgb(67,147,195)"
            ],
            [
             0.9,
             "rgb(33,102,172)"
            ],
            [
             1,
             "rgb(5,48,97)"
            ]
           ],
           "sequential": [
            [
             0,
             "#440154"
            ],
            [
             0.1111111111111111,
             "#482878"
            ],
            [
             0.2222222222222222,
             "#3e4989"
            ],
            [
             0.3333333333333333,
             "#31688e"
            ],
            [
             0.4444444444444444,
             "#26828e"
            ],
            [
             0.5555555555555556,
             "#1f9e89"
            ],
            [
             0.6666666666666666,
             "#35b779"
            ],
            [
             0.7777777777777778,
             "#6ece58"
            ],
            [
             0.8888888888888888,
             "#b5de2b"
            ],
            [
             1,
             "#fde725"
            ]
           ],
           "sequentialminus": [
            [
             0,
             "#440154"
            ],
            [
             0.1111111111111111,
             "#482878"
            ],
            [
             0.2222222222222222,
             "#3e4989"
            ],
            [
             0.3333333333333333,
             "#31688e"
            ],
            [
             0.4444444444444444,
             "#26828e"
            ],
            [
             0.5555555555555556,
             "#1f9e89"
            ],
            [
             0.6666666666666666,
             "#35b779"
            ],
            [
             0.7777777777777778,
             "#6ece58"
            ],
            [
             0.8888888888888888,
             "#b5de2b"
            ],
            [
             1,
             "#fde725"
            ]
           ]
          },
          "colorway": [
           "#1F77B4",
           "#FF7F0E",
           "#2CA02C",
           "#D62728",
           "#9467BD",
           "#8C564B",
           "#E377C2",
           "#7F7F7F",
           "#BCBD22",
           "#17BECF"
          ],
          "font": {
           "color": "rgb(36,36,36)"
          },
          "geo": {
           "bgcolor": "white",
           "lakecolor": "white",
           "landcolor": "white",
           "showlakes": true,
           "showland": true,
           "subunitcolor": "white"
          },
          "hoverlabel": {
           "align": "left"
          },
          "hovermode": "closest",
          "mapbox": {
           "style": "light"
          },
          "paper_bgcolor": "white",
          "plot_bgcolor": "white",
          "polar": {
           "angularaxis": {
            "gridcolor": "rgb(232,232,232)",
            "linecolor": "rgb(36,36,36)",
            "showgrid": false,
            "showline": true,
            "ticks": "outside"
           },
           "bgcolor": "white",
           "radialaxis": {
            "gridcolor": "rgb(232,232,232)",
            "linecolor": "rgb(36,36,36)",
            "showgrid": false,
            "showline": true,
            "ticks": "outside"
           }
          },
          "scene": {
           "xaxis": {
            "backgroundcolor": "white",
            "gridcolor": "rgb(232,232,232)",
            "gridwidth": 2,
            "linecolor": "rgb(36,36,36)",
            "showbackground": true,
            "showgrid": false,
            "showline": true,
            "ticks": "outside",
            "zeroline": false,
            "zerolinecolor": "rgb(36,36,36)"
           },
           "yaxis": {
            "backgroundcolor": "white",
            "gridcolor": "rgb(232,232,232)",
            "gridwidth": 2,
            "linecolor": "rgb(36,36,36)",
            "showbackground": true,
            "showgrid": false,
            "showline": true,
            "ticks": "outside",
            "zeroline": false,
            "zerolinecolor": "rgb(36,36,36)"
           },
           "zaxis": {
            "backgroundcolor": "white",
            "gridcolor": "rgb(232,232,232)",
            "gridwidth": 2,
            "linecolor": "rgb(36,36,36)",
            "showbackground": true,
            "showgrid": false,
            "showline": true,
            "ticks": "outside",
            "zeroline": false,
            "zerolinecolor": "rgb(36,36,36)"
           }
          },
          "shapedefaults": {
           "fillcolor": "black",
           "line": {
            "width": 0
           },
           "opacity": 0.3
          },
          "ternary": {
           "aaxis": {
            "gridcolor": "rgb(232,232,232)",
            "linecolor": "rgb(36,36,36)",
            "showgrid": false,
            "showline": true,
            "ticks": "outside"
           },
           "baxis": {
            "gridcolor": "rgb(232,232,232)",
            "linecolor": "rgb(36,36,36)",
            "showgrid": false,
            "showline": true,
            "ticks": "outside"
           },
           "bgcolor": "white",
           "caxis": {
            "gridcolor": "rgb(232,232,232)",
            "linecolor": "rgb(36,36,36)",
            "showgrid": false,
            "showline": true,
            "ticks": "outside"
           }
          },
          "title": {
           "x": 0.05
          },
          "xaxis": {
           "automargin": true,
           "gridcolor": "rgb(232,232,232)",
           "linecolor": "rgb(36,36,36)",
           "showgrid": false,
           "showline": true,
           "ticks": "outside",
           "title": {
            "standoff": 15
           },
           "zeroline": false,
           "zerolinecolor": "rgb(36,36,36)"
          },
          "yaxis": {
           "automargin": true,
           "gridcolor": "rgb(232,232,232)",
           "linecolor": "rgb(36,36,36)",
           "showgrid": false,
           "showline": true,
           "ticks": "outside",
           "title": {
            "standoff": 15
           },
           "zeroline": false,
           "zerolinecolor": "rgb(36,36,36)"
          }
         }
        },
        "title": {
         "font": {
          "size": 20
         },
         "text": "<b> COUNTRY OF RESIDENCE OF THE PATIENT - HISTOGRAM <b>"
        },
        "width": 900,
        "xaxis": {
         "anchor": "y",
         "categoryorder": "total descending",
         "domain": [
          0,
          1
         ],
         "title": {
          "text": "contry_of_res"
         }
        },
        "yaxis": {
         "anchor": "x",
         "domain": [
          0,
          1
         ],
         "title": {
          "text": "percent"
         }
        }
       }
      }
     },
     "metadata": {},
     "output_type": "display_data"
    }
   ],
   "source": [
    "fig.update_layout(\n",
    "    title=\"<b> COUNTRY OF RESIDENCE OF THE PATIENT - HISTOGRAM <b>\",\n",
    "    font_family=\"San Serif\",\n",
    "    titlefont={'size': 20},\n",
    "    legend=dict(\n",
    "        orientation=\"v\", y=1, yanchor=\"top\", x=1.0, xanchor=\"right\"\n",
    "    ),\n",
    "    xaxis=dict(categoryorder='total descending'),\n",
    "    plot_bgcolor='lightgreen'  # Change the background color here\n",
    ")\n",
    "\n",
    "fig.show()"
   ]
  },
  {
   "cell_type": "code",
   "execution_count": 58,
   "metadata": {},
   "outputs": [
    {
     "data": {
      "image/png": "[encoded data removed]",
      "text/plain": [
       "<Figure size 1000x600 with 1 Axes>"
      ]
     },
     "metadata": {},
     "output_type": "display_data"
    }
   ],
   "source": [
    "\n",
    "\n",
    "# Create a function to generate a distribution plot\n",
    "def plot_distplot(df, col, title):\n",
    "    plt.figure(figsize=(10, 6))\n",
    "    \n",
    "    # Create a distribution plot with Seaborn\n",
    "    sns.set(style=\"whitegrid\")  # Set the style\n",
    "    \n",
    "    sns.histplot(df[col], kde=True, color='skyblue', bins=10)  # Customize color and other attributes\n",
    "    \n",
    "    plt.title(title, fontsize=16, weight='bold')\n",
    "    plt.xlabel(\"Age\", fontsize=14)\n",
    "    plt.ylabel(\"Frequency\", fontsize=14)\n",
    "    \n",
    "    # Add a colored background\n",
    "    plt.gca().set_facecolor('lightgray')  # Change 'lightgray' to your desired background color\n",
    "    \n",
    "    # Add your additional design enhancements here (e.g., grid lines, etc.)\n",
    "    \n",
    "    plt.show()\n",
    "\n",
    "# Call the function with your data and preferences\n",
    "plot_distplot(\n",
    "    df=data,\n",
    "    col='age',\n",
    "    title=\"AGE DISTRIBUTION\"\n",
    ")\n"
   ]
  },
  {
   "cell_type": "code",
   "execution_count": 63,
   "metadata": {},
   "outputs": [
    {
     "data": {
      "image/png": "[encoded data removed]",
      "text/plain": [
       "<Figure size 1000x600 with 1 Axes>"
      ]
     },
     "metadata": {},
     "output_type": "display_data"
    }
   ],
   "source": [
    "import seaborn as sns\n",
    "import matplotlib.pyplot as plt\n",
    "import pandas as pd\n",
    "\n",
    "\n",
    "# Create a distribution plot with KDE for different classes\n",
    "plt.figure(figsize=(10, 6))\n",
    "sns.set(style=\"whitegrid\")\n",
    "\n",
    "sns.kdeplot(data=data, x='age', hue='Class/ASD', common_norm=False, fill=True,\n",
    "            palette=['yellow', 'lightblue'], alpha=0.6)\n",
    "\n",
    "plt.title(\"Relationship between age distribution and Autism?\", fontsize=16, weight='bold')\n",
    "plt.xlabel(\"Age\", fontsize=14)\n",
    "plt.ylabel(\"Density\", fontsize=14)\n",
    "plt.gca().set_facecolor('pink')\n",
    "# Add any additional customization as needed\n",
    "\n",
    "plt.show()\n"
   ]
  },
  {
   "cell_type": "code",
   "execution_count": 69,
   "metadata": {},
   "outputs": [
    {
     "data": {
      "image/png": "[encoded data removed]",
      "text/plain": [
       "<Figure size 1000x600 with 1 Axes>"
      ]
     },
     "metadata": {},
     "output_type": "display_data"
    }
   ],
   "source": [
    "\n",
    "ethnicity_colors = ['chartreuse', 'coral', 'magenta', 'dodgerblue', 'darkgreen', 'darkorchid', 'brown', 'BlueViolet', 'cyan', 'coral', 'Turquoise', 'Gold']\n",
    "\n",
    "# Create a countplot with custom colors\n",
    "plt.figure(figsize=(10, 6))\n",
    "sns.set(style=\"whitegrid\")\n",
    "\n",
    "sns.countplot(data=data, x='ethnicity', palette=ethnicity_colors)\n",
    "\n",
    "plt.title(\"Autism by Ethnicity\", fontsize=16, weight='bold')\n",
    "plt.xlabel(\"Ethnicity\", fontsize=14)\n",
    "plt.ylabel(\"Count\", fontsize=14)\n",
    "\n",
    "# Rotate x-axis labels\n",
    "plt.xticks(rotation=45)\n",
    "\n",
    "# Add any additional customization as needed\n",
    "\n",
    "plt.show()\n"
   ]
  },
  {
   "cell_type": "code",
   "execution_count": 77,
   "metadata": {},
   "outputs": [
    {
     "data": {
      "application/vnd.plotly.v1+json": {
       "config": {
        "plotlyServerURL": "https://plot.ly"
       },
       "data": [
        {
         "line": {
          "color": "lightseagreen"
         },
         "meanline": {
          "visible": true
         },
         "name": "ASD_positive",
         "orientation": "h",
         "side": "positive",
         "type": "violin",
         "x": [
          11.90246137,
          12.81112483,
          2.983511434,
          13.24903914,
          5.553657029,
          5.388901885,
          12.66041654,
          13.25243282,
          10.40867918,
          2.25190921,
          10.07775141,
          10.340678,
          12.60656763,
          6.214286274,
          10.03619864,
          6.581864991000001,
          12.69293695,
          8.07013112,
          10.70238151,
          13.32706355,
          12.48470147,
          11.37187551,
          11.46899443,
          8.509552181,
          13.25738119,
          9.631162929,
          12.62889495,
          9.640370415,
          12.26593849,
          8.261758002,
          7.941886935,
          13.27453963,
          8.390241629,
          8.553977332999999,
          10.19382235,
          6.460316172000001,
          11.44296624,
          13.38671243,
          6.891238655,
          11.89953146,
          6.710785772,
          12.09403623,
          4.008542171,
          6.564945194,
          9.304044275,
          13.20920533,
          5.920914216,
          11.40019063,
          4.1047181010000005,
          8.27323597,
          8.560372176,
          9.948601004,
          13.08977496,
          12.09716243,
          11.57253963,
          12.28760237,
          12.91535092,
          12.10215808,
          9.629531019,
          13.27367122,
          9.444737892,
          13.36258928,
          12.63225658,
          12.30776422,
          13.2763215,
          11.36037509,
          10.71969383,
          7.253067162000001,
          0.24570513,
          13.20735144,
          4.092610809,
          2.020266979,
          3.184134702,
          5.273476284,
          13.04895122,
          12.27861528,
          13.23101706,
          9.415300732,
          13.183806699999998,
          13.24973082,
          5.106865272,
          12.69722854,
          13.072258,
          12.81794677,
          7.690646922000001,
          10.55592026,
          7.310344773,
          9.481148679,
          12.22045421,
          12.38114961,
          12.95596589,
          11.64561512,
          12.21654553,
          12.68886365,
          12.55137788,
          12.20785986,
          13.10683218,
          11.06965621,
          12.90378653,
          7.007598776,
          12.55470746,
          13.30546091,
          12.16208237,
          11.02925089,
          13.3470969,
          9.212422768,
          10.12069538,
          6.42437464,
          12.67898436,
          12.77857904,
          12.29586985,
          9.205064641,
          13.04400888,
          12.644913699999998,
          9.500792744,
          7.36682023,
          11.4434956,
          7.829824786,
          12.24371017,
          12.78373492,
          13.32200826,
          10.20781396,
          13.19516422,
          9.642188369,
          12.858418,
          8.54195461,
          11.24167701,
          13.12453857,
          10.67377402,
          12.58481841,
          12.23598858,
          11.85101145,
          12.66673146,
          11.8484224,
          12.86200491,
          9.590124513,
          11.28121048,
          13.06573621,
          1.900813399,
          5.940763008999999,
          12.69487778,
          13.18758905,
          12.21641163,
          12.99063558,
          11.96038573,
          9.472175772,
          13.24206967,
          11.48566321,
          7.445830332000001,
          9.685235692,
          13.21578899,
          13.30593843,
          13.34315242,
          12.77838613,
          13.3908679,
          6.80550928
         ],
         "y0": 0
        },
        {
         "line": {
          "color": "red"
         },
         "meanline": {
          "visible": true
         },
         "name": "ASD_negative",
         "orientation": "h",
         "side": "positive",
         "type": "violin",
         "x": [
          7.819715187000001,
          1.5300976819999998,
          12.59858317,
          3.5257200560000004,
          5.439973417,
          6.057170377,
          6.347515321,
          6.858826004,
          1.418385496,
          4.791004268,
          8.843999341,
          9.516903607,
          2.899589804,
          6.6242026570000005,
          0.657363734,
          3.413026832,
          10.08048811,
          5.644474047999999,
          1.540616969,
          7.073171612,
          7.871215677999999,
          4.975028787,
          4.691590642,
          6.396593911,
          6.534879168,
          8.709428864,
          8.335489926000001,
          11.28614543,
          3.705601706,
          0.286266851,
          6.594542137,
          7.825169567,
          9.646207259,
          7.209593787999999,
          12.56780339,
          8.153973354,
          4.070286041,
          9.766300148,
          9.54909141,
          9.76324347,
          3.732497665,
          3.614902134,
          9.750764191,
          12.76442307,
          10.05862243,
          1.99710083,
          4.793345886,
          4.417103419,
          5.013694417,
          4.606360182,
          9.937854231,
          3.878289078,
          5.06611889,
          12.25208458,
          6.115176125,
          7.566585883999999,
          3.2698261260000003,
          10.83261719,
          5.095273997,
          4.941242446,
          4.998445063999999,
          10.94097596,
          5.578162197999999,
          2.620210131,
          5.344506477,
          3.430217985,
          7.296902543,
          4.449269716,
          6.3009210520000005,
          4.396275519,
          3.224013563,
          9.260484285,
          4.783945805,
          5.798850311,
          12.93862184,
          4.385270593,
          9.159208904,
          6.703483003,
          5.2247893030000006,
          2.820220928,
          11.17609738,
          4.750577945,
          4.908919455,
          3.903968223,
          6.045432109,
          1.308156877,
          4.528126639,
          6.321999645,
          10.93789702,
          7.260661647999999,
          9.436401795,
          5.615052675,
          9.818735624,
          4.820591224,
          4.522125675,
          11.88115013,
          7.378649836,
          12.22051412,
          4.614599813,
          5.103677971000001,
          7.308089374,
          5.570278987999999,
          2.11659871,
          8.02232221,
          7.318053842,
          3.744542993,
          11.37321626,
          4.7059549480000005,
          6.385142744,
          8.453439218,
          1.199615665,
          8.376743889,
          5.858026532,
          9.22865554,
          4.504274878,
          4.913809832,
          4.998207109,
          10.71734934,
          7.468901184,
          7.223873082999999,
          8.75744368,
          3.489950937,
          6.044276636,
          7.536001517000001,
          1.273605895,
          6.46369743,
          1.917302604,
          5.550252112999999,
          3.205580177,
          0.581144869,
          5.477293457000001,
          12.14966009,
          6.819458362000001,
          5.107056609,
          5.033162205,
          2.574220803,
          6.372565465,
          0.491429912,
          4.684938463,
          8.482545581,
          4.682341003,
          9.813100169,
          9.783101189,
          7.03454204,
          7.065567751000001,
          9.270989784,
          11.78183686,
          7.021983864,
          9.196799364,
          4.276302029,
          0.0678696209999999,
          5.4058913660000005,
          10.36395382,
          8.05311575,
          6.468329718,
          7.779740928,
          5.005139466,
          4.953441874,
          4.212151999,
          4.767911,
          12.33754963,
          3.0433170210000005,
          7.7594656,
          8.739162812,
          6.777451027000001,
          6.152681826,
          3.52634494,
          9.620736344,
          2.386216264,
          7.290158394,
          0.63630177,
          12.05446259,
          8.791906377,
          12.26234366,
          4.298842076000001,
          5.752815448,
          6.536817286000001,
          1.927369175,
          5.224401384,
          7.868742072000001,
          11.26167514,
          11.75003153,
          5.9258110770000005,
          3.489521042,
          5.448813597000001,
          8.590826425,
          8.178771633,
          9.515771923,
          8.09409375,
          8.224582899,
          4.76614512,
          1.328079123,
          4.463859974,
          5.316559102,
          9.725057107,
          5.963798455,
          7.192089823,
          4.550425249,
          3.029855289,
          2.0099285680000003,
          11.39723584,
          6.172033882000001,
          9.073246593,
          0.551235469,
          4.972963749,
          9.481809578,
          0.8360564859999999,
          4.852378265,
          11.83752622,
          9.470815192,
          9.172861611,
          4.24837447,
          10.74172242,
          12.89944481,
          5.498083364,
          6.474593814,
          8.236165182999999,
          12.35747827,
          5.607472746,
          9.644356268,
          1.185194016,
          6.061296008999999,
          11.96952899,
          3.693445308,
          3.094386119,
          3.644848604,
          11.30392493,
          5.73739963,
          6.914954875,
          11.81389184,
          3.90914495,
          3.652764585,
          7.138836719,
          9.288201929,
          4.879532866,
          3.362363384,
          9.665143723,
          0.836639582,
          0.268759344,
          4.368180022,
          2.9421630530000003,
          5.183983433,
          7.964066133999999,
          3.730796128,
          8.308822671,
          4.381557274,
          4.238468468,
          3.291464905,
          7.362717915,
          6.478800441000001,
          9.681837732,
          12.96966148,
          8.243807622,
          4.216112344,
          7.75216827,
          7.428460284,
          1.919248623,
          12.59111873,
          0.094052114,
          7.277024082,
          9.972671946,
          4.758367591,
          1.253396324,
          9.449537208,
          10.21445717,
          5.677578058,
          4.779981236,
          6.052666567999999,
          6.928087239,
          5.862623736000001,
          5.413757058,
          4.797745538,
          10.28273974,
          9.825040248,
          0.7376856909999999,
          10.83556394,
          5.027273131,
          3.738368667,
          7.140389152000001,
          5.777347422999999,
          3.120465052,
          3.4247958780000003,
          2.131516361,
          10.7975561,
          2.244135741,
          0.8506712540000001,
          3.974648664,
          6.893227395,
          6.8937164520000005,
          7.054498882000001,
          11.36501162,
          5.416194368999999,
          4.684038483999999,
          8.384898352999999,
          5.283778686000001,
          0.136623352,
          1.651385643,
          5.8518103020000005,
          2.681468273,
          6.963076452,
          8.66095379,
          5.726659628999999,
          8.947422892,
          10.02665843,
          1.807569102,
          7.175429475,
          11.77900624,
          7.727729298,
          3.5536880510000004,
          6.501704297000001,
          2.487216742,
          5.107533601,
          9.799758683,
          4.573765832,
          1.82880096,
          9.507900334,
          5.993903211,
          5.543136742000001,
          6.286347677,
          7.412813177,
          7.789261955,
          6.889617395,
          5.693868475,
          2.062233051,
          4.207514188999999,
          7.727519307000001,
          6.528725726,
          5.31052325,
          1.754276914,
          4.862571408,
          6.727457312,
          10.73274893,
          7.671166337000001,
          0.688994763,
          2.743173797,
          9.778755741,
          8.581273571,
          5.782914612999999,
          1.672875939,
          8.559973792000001,
          2.00345701,
          5.04311731,
          12.079312,
          5.444609357999999,
          6.567288576,
          5.48397178,
          8.257198393,
          4.534432171000001,
          7.435090712,
          1.067502884,
          12.28327873,
          11.5842652,
          11.5758213,
          3.84324425,
          9.622188908,
          6.599539088999999,
          6.918480338999999,
          0.474457095,
          8.190612388,
          0.231494445,
          7.641468463,
          6.596557338999999,
          12.36754381,
          9.729908834,
          8.523430303,
          3.291574377,
          6.773785527,
          2.130976794,
          9.098205273,
          5.783773856,
          6.652098657000001,
          5.6723987110000005,
          4.812774143,
          12.93573614,
          6.846036607,
          6.8453787120000005,
          4.816072476,
          1.740625145,
          2.6361089090000003,
          2.728218172,
          0.890902457,
          4.72749834,
          12.47688865,
          6.2152431,
          11.90920715,
          7.502335477000001,
          7.242232292000001,
          6.083884241,
          4.22227595,
          6.74334294,
          12.87978205,
          5.811801114,
          9.011822317,
          12.8865951,
          0.585036872,
          13.30013275,
          11.59525701,
          9.91329515,
          5.034762553,
          10.85828892,
          8.033251222999999,
          7.314045347,
          2.819953175,
          10.12164295,
          12.70987011,
          1.653584599,
          6.496949408,
          2.863281284,
          5.865060722000001,
          12.69158468,
          10.37649024,
          8.043349911,
          5.603798965,
          3.5507278280000003,
          0.88459756,
          11.33068753,
          8.232475864,
          8.176131023,
          3.88418964,
          3.469013965,
          3.012778809,
          7.266477967,
          12.52690699,
          5.941500175,
          2.971121778,
          6.382275401,
          6.661191712999999,
          5.214310193999999,
          0.267053097,
          6.610906059,
          2.031080732,
          0.407256609,
          6.764455797,
          0.373984541,
          6.677639256,
          2.569904621,
          4.026584312,
          8.837014057000001,
          8.434125874,
          6.465976443,
          5.716146112000001,
          9.274546745,
          3.434722319,
          9.885100778,
          4.783133275,
          6.438968444,
          7.177985392999999,
          6.153399306,
          12.95415229,
          4.08931523,
          3.690942379,
          1.6018679219999998,
          6.672158756,
          0.502550325,
          7.72826799,
          0.59078224,
          6.895935384,
          11.14816099,
          7.54687508,
          3.090932348,
          11.912295599999998,
          5.218856312,
          6.12019472,
          3.751886987,
          8.920739758,
          1.901898986,
          4.658414883,
          2.287008829,
          7.003726856,
          11.28052229,
          3.682732169,
          12.06016768
         ],
         "y0": 0
        }
       ],
       "layout": {
        "font": {
         "family": "San Serif"
        },
        "height": 400,
        "showlegend": true,
        "template": {
         "data": {
          "bar": [
           {
            "error_x": {
             "color": "rgb(36,36,36)"
            },
            "error_y": {
             "color": "rgb(36,36,36)"
            },
            "marker": {
             "line": {
              "color": "white",
              "width": 0.5
             },
             "pattern": {
              "fillmode": "overlay",
              "size": 10,
              "solidity": 0.2
             }
            },
            "type": "bar"
           }
          ],
          "barpolar": [
           {
            "marker": {
             "line": {
              "color": "white",
              "width": 0.5
             },
             "pattern": {
              "fillmode": "overlay",
              "size": 10,
              "solidity": 0.2
             }
            },
            "type": "barpolar"
           }
          ],
          "carpet": [
           {
            "aaxis": {
             "endlinecolor": "rgb(36,36,36)",
             "gridcolor": "white",
             "linecolor": "white",
             "minorgridcolor": "white",
             "startlinecolor": "rgb(36,36,36)"
            },
            "baxis": {
             "endlinecolor": "rgb(36,36,36)",
             "gridcolor": "white",
             "linecolor": "white",
             "minorgridcolor": "white",
             "startlinecolor": "rgb(36,36,36)"
            },
            "type": "carpet"
           }
          ],
          "choropleth": [
           {
            "colorbar": {
             "outlinewidth": 1,
             "tickcolor": "rgb(36,36,36)",
             "ticks": "outside"
            },
            "type": "choropleth"
           }
          ],
          "contour": [
           {
            "colorbar": {
             "outlinewidth": 1,
             "tickcolor": "rgb(36,36,36)",
             "ticks": "outside"
            },
            "colorscale": [
             [
              0,
              "#440154"
             ],
             [
              0.1111111111111111,
              "#482878"
             ],
             [
              0.2222222222222222,
              "#3e4989"
             ],
             [
              0.3333333333333333,
              "#31688e"
             ],
             [
              0.4444444444444444,
              "#26828e"
             ],
             [
              0.5555555555555556,
              "#1f9e89"
             ],
             [
              0.6666666666666666,
              "#35b779"
             ],
             [
              0.7777777777777778,
              "#6ece58"
             ],
             [
              0.8888888888888888,
              "#b5de2b"
             ],
             [
              1,
              "#fde725"
             ]
            ],
            "type": "contour"
           }
          ],
          "contourcarpet": [
           {
            "colorbar": {
             "outlinewidth": 1,
             "tickcolor": "rgb(36,36,36)",
             "ticks": "outside"
            },
            "type": "contourcarpet"
           }
          ],
          "heatmap": [
           {
            "colorbar": {
             "outlinewidth": 1,
             "tickcolor": "rgb(36,36,36)",
             "ticks": "outside"
            },
            "colorscale": [
             [
              0,
              "#440154"
             ],
             [
              0.1111111111111111,
              "#482878"
             ],
             [
              0.2222222222222222,
              "#3e4989"
             ],
             [
              0.3333333333333333,
              "#31688e"
             ],
             [
              0.4444444444444444,
              "#26828e"
             ],
             [
              0.5555555555555556,
              "#1f9e89"
             ],
             [
              0.6666666666666666,
              "#35b779"
             ],
             [
              0.7777777777777778,
              "#6ece58"
             ],
             [
              0.8888888888888888,
              "#b5de2b"
             ],
             [
              1,
              "#fde725"
             ]
            ],
            "type": "heatmap"
           }
          ],
          "heatmapgl": [
           {
            "colorbar": {
             "outlinewidth": 1,
             "tickcolor": "rgb(36,36,36)",
             "ticks": "outside"
            },
            "colorscale": [
             [
              0,
              "#440154"
             ],
             [
              0.1111111111111111,
              "#482878"
             ],
             [
              0.2222222222222222,
              "#3e4989"
             ],
             [
              0.3333333333333333,
              "#31688e"
             ],
             [
              0.4444444444444444,
              "#26828e"
             ],
             [
              0.5555555555555556,
              "#1f9e89"
             ],
             [
              0.6666666666666666,
              "#35b779"
             ],
             [
              0.7777777777777778,
              "#6ece58"
             ],
             [
              0.8888888888888888,
              "#b5de2b"
             ],
             [
              1,
              "#fde725"
             ]
            ],
            "type": "heatmapgl"
           }
          ],
          "histogram": [
           {
            "marker": {
             "line": {
              "color": "white",
              "width": 0.6
             }
            },
            "type": "histogram"
           }
          ],
          "histogram2d": [
           {
            "colorbar": {
             "outlinewidth": 1,
             "tickcolor": "rgb(36,36,36)",
             "ticks": "outside"
            },
            "colorscale": [
             [
              0,
              "#440154"
             ],
             [
              0.1111111111111111,
              "#482878"
             ],
             [
              0.2222222222222222,
              "#3e4989"
             ],
             [
              0.3333333333333333,
              "#31688e"
             ],
             [
              0.4444444444444444,
              "#26828e"
             ],
             [
              0.5555555555555556,
              "#1f9e89"
             ],
             [
              0.6666666666666666,
              "#35b779"
             ],
             [
              0.7777777777777778,
              "#6ece58"
             ],
             [
              0.8888888888888888,
              "#b5de2b"
             ],
             [
              1,
              "#fde725"
             ]
            ],
            "type": "histogram2d"
           }
          ],
          "histogram2dcontour": [
           {
            "colorbar": {
             "outlinewidth": 1,
             "tickcolor": "rgb(36,36,36)",
             "ticks": "outside"
            },
            "colorscale": [
             [
              0,
              "#440154"
             ],
             [
              0.1111111111111111,
              "#482878"
             ],
             [
              0.2222222222222222,
              "#3e4989"
             ],
             [
              0.3333333333333333,
              "#31688e"
             ],
             [
              0.4444444444444444,
              "#26828e"
             ],
             [
              0.5555555555555556,
              "#1f9e89"
             ],
             [
              0.6666666666666666,
              "#35b779"
             ],
             [
              0.7777777777777778,
              "#6ece58"
             ],
             [
              0.8888888888888888,
              "#b5de2b"
             ],
             [
              1,
              "#fde725"
             ]
            ],
            "type": "histogram2dcontour"
           }
          ],
          "mesh3d": [
           {
            "colorbar": {
             "outlinewidth": 1,
             "tickcolor": "rgb(36,36,36)",
             "ticks": "outside"
            },
            "type": "mesh3d"
           }
          ],
          "parcoords": [
           {
            "line": {
             "colorbar": {
              "outlinewidth": 1,
              "tickcolor": "rgb(36,36,36)",
              "ticks": "outside"
             }
            },
            "type": "parcoords"
           }
          ],
          "pie": [
           {
            "automargin": true,
            "type": "pie"
           }
          ],
          "scatter": [
           {
            "fillpattern": {
             "fillmode": "overlay",
             "size": 10,
             "solidity": 0.2
            },
            "type": "scatter"
           }
          ],
          "scatter3d": [
           {
            "line": {
             "colorbar": {
              "outlinewidth": 1,
              "tickcolor": "rgb(36,36,36)",
              "ticks": "outside"
             }
            },
            "marker": {
             "colorbar": {
              "outlinewidth": 1,
              "tickcolor": "rgb(36,36,36)",
              "ticks": "outside"
             }
            },
            "type": "scatter3d"
           }
          ],
          "scattercarpet": [
           {
            "marker": {
             "colorbar": {
              "outlinewidth": 1,
              "tickcolor": "rgb(36,36,36)",
              "ticks": "outside"
             }
            },
            "type": "scattercarpet"
           }
          ],
          "scattergeo": [
           {
            "marker": {
             "colorbar": {
              "outlinewidth": 1,
              "tickcolor": "rgb(36,36,36)",
              "ticks": "outside"
             }
            },
            "type": "scattergeo"
           }
          ],
          "scattergl": [
           {
            "marker": {
             "colorbar": {
              "outlinewidth": 1,
              "tickcolor": "rgb(36,36,36)",
              "ticks": "outside"
             }
            },
            "type": "scattergl"
           }
          ],
          "scattermapbox": [
           {
            "marker": {
             "colorbar": {
              "outlinewidth": 1,
              "tickcolor": "rgb(36,36,36)",
              "ticks": "outside"
             }
            },
            "type": "scattermapbox"
           }
          ],
          "scatterpolar": [
           {
            "marker": {
             "colorbar": {
              "outlinewidth": 1,
              "tickcolor": "rgb(36,36,36)",
              "ticks": "outside"
             }
            },
            "type": "scatterpolar"
           }
          ],
          "scatterpolargl": [
           {
            "marker": {
             "colorbar": {
              "outlinewidth": 1,
              "tickcolor": "rgb(36,36,36)",
              "ticks": "outside"
             }
            },
            "type": "scatterpolargl"
           }
          ],
          "scatterternary": [
           {
            "marker": {
             "colorbar": {
              "outlinewidth": 1,
              "tickcolor": "rgb(36,36,36)",
              "ticks": "outside"
             }
            },
            "type": "scatterternary"
           }
          ],
          "surface": [
           {
            "colorbar": {
             "outlinewidth": 1,
             "tickcolor": "rgb(36,36,36)",
             "ticks": "outside"
            },
            "colorscale": [
             [
              0,
              "#440154"
             ],
             [
              0.1111111111111111,
              "#482878"
             ],
             [
              0.2222222222222222,
              "#3e4989"
             ],
             [
              0.3333333333333333,
              "#31688e"
             ],
             [
              0.4444444444444444,
              "#26828e"
             ],
             [
              0.5555555555555556,
              "#1f9e89"
             ],
             [
              0.6666666666666666,
              "#35b779"
             ],
             [
              0.7777777777777778,
              "#6ece58"
             ],
             [
              0.8888888888888888,
              "#b5de2b"
             ],
             [
              1,
              "#fde725"
             ]
            ],
            "type": "surface"
           }
          ],
          "table": [
           {
            "cells": {
             "fill": {
              "color": "rgb(237,237,237)"
             },
             "line": {
              "color": "white"
             }
            },
            "header": {
             "fill": {
              "color": "rgb(217,217,217)"
             },
             "line": {
              "color": "white"
             }
            },
            "type": "table"
           }
          ]
         },
         "layout": {
          "annotationdefaults": {
           "arrowhead": 0,
           "arrowwidth": 1
          },
          "autotypenumbers": "strict",
          "coloraxis": {
           "colorbar": {
            "outlinewidth": 1,
            "tickcolor": "rgb(36,36,36)",
            "ticks": "outside"
           }
          },
          "colorscale": {
           "diverging": [
            [
             0,
             "rgb(103,0,31)"
            ],
            [
             0.1,
             "rgb(178,24,43)"
            ],
            [
             0.2,
             "rgb(214,96,77)"
            ],
            [
             0.3,
             "rgb(244,165,130)"
            ],
            [
             0.4,
             "rgb(253,219,199)"
            ],
            [
             0.5,
             "rgb(247,247,247)"
            ],
            [
             0.6,
             "rgb(209,229,240)"
            ],
            [
             0.7,
             "rgb(146,197,222)"
            ],
            [
             0.8,
             "rgb(67,147,195)"
            ],
            [
             0.9,
             "rgb(33,102,172)"
            ],
            [
             1,
             "rgb(5,48,97)"
            ]
           ],
           "sequential": [
            [
             0,
             "#440154"
            ],
            [
             0.1111111111111111,
             "#482878"
            ],
            [
             0.2222222222222222,
             "#3e4989"
            ],
            [
             0.3333333333333333,
             "#31688e"
            ],
            [
             0.4444444444444444,
             "#26828e"
            ],
            [
             0.5555555555555556,
             "#1f9e89"
            ],
            [
             0.6666666666666666,
             "#35b779"
            ],
            [
             0.7777777777777778,
             "#6ece58"
            ],
            [
             0.8888888888888888,
             "#b5de2b"
            ],
            [
             1,
             "#fde725"
            ]
           ],
           "sequentialminus": [
            [
             0,
             "#440154"
            ],
            [
             0.1111111111111111,
             "#482878"
            ],
            [
             0.2222222222222222,
             "#3e4989"
            ],
            [
             0.3333333333333333,
             "#31688e"
            ],
            [
             0.4444444444444444,
             "#26828e"
            ],
            [
             0.5555555555555556,
             "#1f9e89"
            ],
            [
             0.6666666666666666,
             "#35b779"
            ],
            [
             0.7777777777777778,
             "#6ece58"
            ],
            [
             0.8888888888888888,
             "#b5de2b"
            ],
            [
             1,
             "#fde725"
            ]
           ]
          },
          "colorway": [
           "#1F77B4",
           "#FF7F0E",
           "#2CA02C",
           "#D62728",
           "#9467BD",
           "#8C564B",
           "#E377C2",
           "#7F7F7F",
           "#BCBD22",
           "#17BECF"
          ],
          "font": {
           "color": "rgb(36,36,36)"
          },
          "geo": {
           "bgcolor": "white",
           "lakecolor": "white",
           "landcolor": "white",
           "showlakes": true,
           "showland": true,
           "subunitcolor": "white"
          },
          "hoverlabel": {
           "align": "left"
          },
          "hovermode": "closest",
          "mapbox": {
           "style": "light"
          },
          "paper_bgcolor": "white",
          "plot_bgcolor": "white",
          "polar": {
           "angularaxis": {
            "gridcolor": "rgb(232,232,232)",
            "linecolor": "rgb(36,36,36)",
            "showgrid": false,
            "showline": true,
            "ticks": "outside"
           },
           "bgcolor": "white",
           "radialaxis": {
            "gridcolor": "rgb(232,232,232)",
            "linecolor": "rgb(36,36,36)",
            "showgrid": false,
            "showline": true,
            "ticks": "outside"
           }
          },
          "scene": {
           "xaxis": {
            "backgroundcolor": "white",
            "gridcolor": "rgb(232,232,232)",
            "gridwidth": 2,
            "linecolor": "rgb(36,36,36)",
            "showbackground": true,
            "showgrid": false,
            "showline": true,
            "ticks": "outside",
            "zeroline": false,
            "zerolinecolor": "rgb(36,36,36)"
           },
           "yaxis": {
            "backgroundcolor": "white",
            "gridcolor": "rgb(232,232,232)",
            "gridwidth": 2,
            "linecolor": "rgb(36,36,36)",
            "showbackground": true,
            "showgrid": false,
            "showline": true,
            "ticks": "outside",
            "zeroline": false,
            "zerolinecolor": "rgb(36,36,36)"
           },
           "zaxis": {
            "backgroundcolor": "white",
            "gridcolor": "rgb(232,232,232)",
            "gridwidth": 2,
            "linecolor": "rgb(36,36,36)",
            "showbackground": true,
            "showgrid": false,
            "showline": true,
            "ticks": "outside",
            "zeroline": false,
            "zerolinecolor": "rgb(36,36,36)"
           }
          },
          "shapedefaults": {
           "fillcolor": "black",
           "line": {
            "width": 0
           },
           "opacity": 0.3
          },
          "ternary": {
           "aaxis": {
            "gridcolor": "rgb(232,232,232)",
            "linecolor": "rgb(36,36,36)",
            "showgrid": false,
            "showline": true,
            "ticks": "outside"
           },
           "baxis": {
            "gridcolor": "rgb(232,232,232)",
            "linecolor": "rgb(36,36,36)",
            "showgrid": false,
            "showline": true,
            "ticks": "outside"
           },
           "bgcolor": "white",
           "caxis": {
            "gridcolor": "rgb(232,232,232)",
            "linecolor": "rgb(36,36,36)",
            "showgrid": false,
            "showline": true,
            "ticks": "outside"
           }
          },
          "title": {
           "x": 0.05
          },
          "xaxis": {
           "automargin": true,
           "gridcolor": "rgb(232,232,232)",
           "linecolor": "rgb(36,36,36)",
           "showgrid": false,
           "showline": true,
           "ticks": "outside",
           "title": {
            "standoff": 15
           },
           "zeroline": false,
           "zerolinecolor": "rgb(36,36,36)"
          },
          "yaxis": {
           "automargin": true,
           "gridcolor": "rgb(232,232,232)",
           "linecolor": "rgb(36,36,36)",
           "showgrid": false,
           "showline": true,
           "ticks": "outside",
           "title": {
            "standoff": 15
           },
           "zeroline": false,
           "zerolinecolor": "rgb(36,36,36)"
          }
         }
        },
        "title": {
         "font": {
          "size": 20
         },
         "text": "<b> Screening test result distribution (QA1-10) <b>"
        },
        "width": 600,
        "xaxis": {
         "showgrid": false,
         "title": {
          "text": "Result"
         },
         "zeroline": false
        },
        "yaxis": {
         "showgrid": false,
         "showline": false,
         "showticklabels": false
        }
       }
      }
     },
     "metadata": {},
     "output_type": "display_data"
    }
   ],
   "source": [
    "import plotly.graph_objs as go\n",
    "ASD_pos_result = data[data['Class/ASD'] == 1]['result']\n",
    "ASD_neg_result = data[data['Class/ASD'] == 0]['result']\n",
    "\n",
    "fig = go.Figure()\n",
    "fig.add_trace(go.Violin(x=ASD_pos_result, line_color='lightseagreen', name='ASD_positive', y0=0))\n",
    "fig.add_trace(go.Violin(x=ASD_neg_result, line_color='red', name= 'ASD_negative', y0=0))\n",
    "\n",
    "fig.update_traces(orientation='h', side='positive', meanline_visible=True)\n",
    "fig.update_layout(xaxis_showgrid=False, xaxis_zeroline=False)\n",
    "\n",
    "fig.update_layout(title='<b> Screening test result distribution (QA1-10) <b>',\n",
    "                  font_family=\"San Serif\",\n",
    "                  xaxis_title='Result',\n",
    "                  titlefont={'size': 20},\n",
    "                  width=600,\n",
    "                  height=400,\n",
    "                  template=\"simple_white\",\n",
    "                  showlegend=True,\n",
    "                  )\n",
    "fig.update_yaxes(showgrid=False, showline=False, showticklabels=False)\n",
    "fig.show()"
   ]
  },
  {
   "cell_type": "code",
   "execution_count": 81,
   "metadata": {},
   "outputs": [
    {
     "name": "stderr",
     "output_type": "stream",
     "text": [
      "C:\\Users\\HP\\AppData\\Local\\Temp\\ipykernel_17380\\3837591053.py:10: RuntimeWarning:\n",
      "\n",
      "invalid value encountered in double_scalars\n",
      "\n",
      "C:\\Users\\HP\\AppData\\Local\\Temp\\ipykernel_17380\\3837591053.py:10: RuntimeWarning:\n",
      "\n",
      "invalid value encountered in double_scalars\n",
      "\n",
      "C:\\Users\\HP\\AppData\\Local\\Temp\\ipykernel_17380\\3837591053.py:10: RuntimeWarning:\n",
      "\n",
      "invalid value encountered in double_scalars\n",
      "\n",
      "C:\\Users\\HP\\AppData\\Local\\Temp\\ipykernel_17380\\3837591053.py:10: RuntimeWarning:\n",
      "\n",
      "invalid value encountered in double_scalars\n",
      "\n",
      "C:\\Users\\HP\\AppData\\Local\\Temp\\ipykernel_17380\\3837591053.py:10: RuntimeWarning:\n",
      "\n",
      "invalid value encountered in double_scalars\n",
      "\n",
      "C:\\Users\\HP\\AppData\\Local\\Temp\\ipykernel_17380\\3837591053.py:10: RuntimeWarning:\n",
      "\n",
      "invalid value encountered in double_scalars\n",
      "\n",
      "C:\\Users\\HP\\AppData\\Local\\Temp\\ipykernel_17380\\3837591053.py:10: RuntimeWarning:\n",
      "\n",
      "divide by zero encountered in double_scalars\n",
      "\n",
      "C:\\Users\\HP\\AppData\\Local\\Temp\\ipykernel_17380\\3837591053.py:10: RuntimeWarning:\n",
      "\n",
      "invalid value encountered in double_scalars\n",
      "\n",
      "C:\\Users\\HP\\AppData\\Local\\Temp\\ipykernel_17380\\3837591053.py:10: RuntimeWarning:\n",
      "\n",
      "divide by zero encountered in double_scalars\n",
      "\n",
      "C:\\Users\\HP\\AppData\\Local\\Temp\\ipykernel_17380\\3837591053.py:10: RuntimeWarning:\n",
      "\n",
      "divide by zero encountered in double_scalars\n",
      "\n",
      "C:\\Users\\HP\\AppData\\Local\\Temp\\ipykernel_17380\\3837591053.py:10: RuntimeWarning:\n",
      "\n",
      "invalid value encountered in double_scalars\n",
      "\n",
      "C:\\Users\\HP\\AppData\\Local\\Temp\\ipykernel_17380\\3837591053.py:10: RuntimeWarning:\n",
      "\n",
      "invalid value encountered in double_scalars\n",
      "\n",
      "C:\\Users\\HP\\AppData\\Local\\Temp\\ipykernel_17380\\3837591053.py:10: RuntimeWarning:\n",
      "\n",
      "invalid value encountered in double_scalars\n",
      "\n",
      "C:\\Users\\HP\\AppData\\Local\\Temp\\ipykernel_17380\\3837591053.py:10: RuntimeWarning:\n",
      "\n",
      "divide by zero encountered in double_scalars\n",
      "\n",
      "C:\\Users\\HP\\AppData\\Local\\Temp\\ipykernel_17380\\3837591053.py:10: RuntimeWarning:\n",
      "\n",
      "invalid value encountered in double_scalars\n",
      "\n",
      "C:\\Users\\HP\\AppData\\Local\\Temp\\ipykernel_17380\\3837591053.py:10: RuntimeWarning:\n",
      "\n",
      "invalid value encountered in double_scalars\n",
      "\n",
      "C:\\Users\\HP\\AppData\\Local\\Temp\\ipykernel_17380\\3837591053.py:10: RuntimeWarning:\n",
      "\n",
      "invalid value encountered in double_scalars\n",
      "\n",
      "C:\\Users\\HP\\AppData\\Local\\Temp\\ipykernel_17380\\3837591053.py:10: RuntimeWarning:\n",
      "\n",
      "invalid value encountered in double_scalars\n",
      "\n",
      "C:\\Users\\HP\\AppData\\Local\\Temp\\ipykernel_17380\\3837591053.py:10: RuntimeWarning:\n",
      "\n",
      "invalid value encountered in double_scalars\n",
      "\n",
      "C:\\Users\\HP\\AppData\\Local\\Temp\\ipykernel_17380\\3837591053.py:10: RuntimeWarning:\n",
      "\n",
      "invalid value encountered in double_scalars\n",
      "\n",
      "C:\\Users\\HP\\AppData\\Local\\Temp\\ipykernel_17380\\3837591053.py:10: RuntimeWarning:\n",
      "\n",
      "invalid value encountered in double_scalars\n",
      "\n",
      "C:\\Users\\HP\\AppData\\Local\\Temp\\ipykernel_17380\\3837591053.py:10: RuntimeWarning:\n",
      "\n",
      "invalid value encountered in double_scalars\n",
      "\n",
      "C:\\Users\\HP\\AppData\\Local\\Temp\\ipykernel_17380\\3837591053.py:10: RuntimeWarning:\n",
      "\n",
      "invalid value encountered in double_scalars\n",
      "\n",
      "C:\\Users\\HP\\AppData\\Local\\Temp\\ipykernel_17380\\3837591053.py:10: RuntimeWarning:\n",
      "\n",
      "invalid value encountered in double_scalars\n",
      "\n",
      "C:\\Users\\HP\\AppData\\Local\\Temp\\ipykernel_17380\\3837591053.py:10: RuntimeWarning:\n",
      "\n",
      "invalid value encountered in double_scalars\n",
      "\n",
      "C:\\Users\\HP\\AppData\\Local\\Temp\\ipykernel_17380\\3837591053.py:10: RuntimeWarning:\n",
      "\n",
      "invalid value encountered in double_scalars\n",
      "\n",
      "C:\\Users\\HP\\AppData\\Local\\Temp\\ipykernel_17380\\3837591053.py:10: RuntimeWarning:\n",
      "\n",
      "invalid value encountered in double_scalars\n",
      "\n",
      "C:\\Users\\HP\\AppData\\Local\\Temp\\ipykernel_17380\\3837591053.py:10: RuntimeWarning:\n",
      "\n",
      "invalid value encountered in double_scalars\n",
      "\n",
      "C:\\Users\\HP\\AppData\\Local\\Temp\\ipykernel_17380\\3837591053.py:10: RuntimeWarning:\n",
      "\n",
      "invalid value encountered in double_scalars\n",
      "\n",
      "C:\\Users\\HP\\AppData\\Local\\Temp\\ipykernel_17380\\3837591053.py:10: RuntimeWarning:\n",
      "\n",
      "invalid value encountered in double_scalars\n",
      "\n",
      "C:\\Users\\HP\\AppData\\Local\\Temp\\ipykernel_17380\\3837591053.py:10: RuntimeWarning:\n",
      "\n",
      "invalid value encountered in double_scalars\n",
      "\n",
      "C:\\Users\\HP\\AppData\\Local\\Temp\\ipykernel_17380\\3837591053.py:10: RuntimeWarning:\n",
      "\n",
      "invalid value encountered in double_scalars\n",
      "\n",
      "C:\\Users\\HP\\AppData\\Local\\Temp\\ipykernel_17380\\3837591053.py:10: RuntimeWarning:\n",
      "\n",
      "invalid value encountered in double_scalars\n",
      "\n",
      "C:\\Users\\HP\\AppData\\Local\\Temp\\ipykernel_17380\\3837591053.py:10: RuntimeWarning:\n",
      "\n",
      "invalid value encountered in double_scalars\n",
      "\n",
      "C:\\Users\\HP\\AppData\\Local\\Temp\\ipykernel_17380\\3837591053.py:10: RuntimeWarning:\n",
      "\n",
      "divide by zero encountered in double_scalars\n",
      "\n",
      "C:\\Users\\HP\\AppData\\Local\\Temp\\ipykernel_17380\\3837591053.py:10: RuntimeWarning:\n",
      "\n",
      "invalid value encountered in double_scalars\n",
      "\n",
      "C:\\Users\\HP\\AppData\\Local\\Temp\\ipykernel_17380\\3837591053.py:10: RuntimeWarning:\n",
      "\n",
      "divide by zero encountered in double_scalars\n",
      "\n",
      "C:\\Users\\HP\\AppData\\Local\\Temp\\ipykernel_17380\\3837591053.py:10: RuntimeWarning:\n",
      "\n",
      "invalid value encountered in double_scalars\n",
      "\n",
      "C:\\Users\\HP\\AppData\\Local\\Temp\\ipykernel_17380\\3837591053.py:10: RuntimeWarning:\n",
      "\n",
      "invalid value encountered in double_scalars\n",
      "\n",
      "C:\\Users\\HP\\AppData\\Local\\Temp\\ipykernel_17380\\3837591053.py:10: RuntimeWarning:\n",
      "\n",
      "invalid value encountered in double_scalars\n",
      "\n",
      "C:\\Users\\HP\\AppData\\Local\\Temp\\ipykernel_17380\\3837591053.py:10: RuntimeWarning:\n",
      "\n",
      "invalid value encountered in double_scalars\n",
      "\n",
      "C:\\Users\\HP\\AppData\\Local\\Temp\\ipykernel_17380\\3837591053.py:10: RuntimeWarning:\n",
      "\n",
      "invalid value encountered in double_scalars\n",
      "\n",
      "C:\\Users\\HP\\AppData\\Local\\Temp\\ipykernel_17380\\3837591053.py:10: RuntimeWarning:\n",
      "\n",
      "invalid value encountered in double_scalars\n",
      "\n",
      "C:\\Users\\HP\\AppData\\Local\\Temp\\ipykernel_17380\\3837591053.py:10: RuntimeWarning:\n",
      "\n",
      "invalid value encountered in double_scalars\n",
      "\n",
      "C:\\Users\\HP\\AppData\\Local\\Temp\\ipykernel_17380\\3837591053.py:10: RuntimeWarning:\n",
      "\n",
      "divide by zero encountered in double_scalars\n",
      "\n",
      "C:\\Users\\HP\\AppData\\Local\\Temp\\ipykernel_17380\\3837591053.py:10: RuntimeWarning:\n",
      "\n",
      "invalid value encountered in double_scalars\n",
      "\n",
      "C:\\Users\\HP\\AppData\\Local\\Temp\\ipykernel_17380\\3837591053.py:10: RuntimeWarning:\n",
      "\n",
      "divide by zero encountered in double_scalars\n",
      "\n",
      "C:\\Users\\HP\\AppData\\Local\\Temp\\ipykernel_17380\\3837591053.py:10: RuntimeWarning:\n",
      "\n",
      "invalid value encountered in double_scalars\n",
      "\n",
      "C:\\Users\\HP\\AppData\\Local\\Temp\\ipykernel_17380\\3837591053.py:10: RuntimeWarning:\n",
      "\n",
      "invalid value encountered in double_scalars\n",
      "\n",
      "C:\\Users\\HP\\AppData\\Local\\Temp\\ipykernel_17380\\3837591053.py:10: RuntimeWarning:\n",
      "\n",
      "invalid value encountered in double_scalars\n",
      "\n",
      "C:\\Users\\HP\\AppData\\Local\\Temp\\ipykernel_17380\\3837591053.py:10: RuntimeWarning:\n",
      "\n",
      "invalid value encountered in double_scalars\n",
      "\n",
      "C:\\Users\\HP\\AppData\\Local\\Temp\\ipykernel_17380\\3837591053.py:10: RuntimeWarning:\n",
      "\n",
      "invalid value encountered in double_scalars\n",
      "\n",
      "C:\\Users\\HP\\AppData\\Local\\Temp\\ipykernel_17380\\3837591053.py:10: RuntimeWarning:\n",
      "\n",
      "invalid value encountered in double_scalars\n",
      "\n",
      "C:\\Users\\HP\\AppData\\Local\\Temp\\ipykernel_17380\\3837591053.py:10: RuntimeWarning:\n",
      "\n",
      "invalid value encountered in double_scalars\n",
      "\n",
      "C:\\Users\\HP\\AppData\\Local\\Temp\\ipykernel_17380\\3837591053.py:10: RuntimeWarning:\n",
      "\n",
      "invalid value encountered in double_scalars\n",
      "\n",
      "C:\\Users\\HP\\AppData\\Local\\Temp\\ipykernel_17380\\3837591053.py:10: RuntimeWarning:\n",
      "\n",
      "invalid value encountered in double_scalars\n",
      "\n",
      "C:\\Users\\HP\\AppData\\Local\\Temp\\ipykernel_17380\\3837591053.py:10: RuntimeWarning:\n",
      "\n",
      "invalid value encountered in double_scalars\n",
      "\n",
      "C:\\Users\\HP\\AppData\\Local\\Temp\\ipykernel_17380\\3837591053.py:10: RuntimeWarning:\n",
      "\n",
      "invalid value encountered in double_scalars\n",
      "\n",
      "C:\\Users\\HP\\AppData\\Local\\Temp\\ipykernel_17380\\3837591053.py:10: RuntimeWarning:\n",
      "\n",
      "invalid value encountered in double_scalars\n",
      "\n",
      "C:\\Users\\HP\\AppData\\Local\\Temp\\ipykernel_17380\\3837591053.py:10: RuntimeWarning:\n",
      "\n",
      "invalid value encountered in double_scalars\n",
      "\n",
      "C:\\Users\\HP\\AppData\\Local\\Temp\\ipykernel_17380\\3837591053.py:10: RuntimeWarning:\n",
      "\n",
      "invalid value encountered in double_scalars\n",
      "\n",
      "C:\\Users\\HP\\AppData\\Local\\Temp\\ipykernel_17380\\3837591053.py:10: RuntimeWarning:\n",
      "\n",
      "invalid value encountered in double_scalars\n",
      "\n",
      "C:\\Users\\HP\\AppData\\Local\\Temp\\ipykernel_17380\\3837591053.py:10: RuntimeWarning:\n",
      "\n",
      "invalid value encountered in double_scalars\n",
      "\n",
      "C:\\Users\\HP\\AppData\\Local\\Temp\\ipykernel_17380\\3837591053.py:10: RuntimeWarning:\n",
      "\n",
      "invalid value encountered in double_scalars\n",
      "\n",
      "C:\\Users\\HP\\AppData\\Local\\Temp\\ipykernel_17380\\3837591053.py:10: RuntimeWarning:\n",
      "\n",
      "invalid value encountered in double_scalars\n",
      "\n",
      "C:\\Users\\HP\\AppData\\Local\\Temp\\ipykernel_17380\\3837591053.py:10: RuntimeWarning:\n",
      "\n",
      "invalid value encountered in double_scalars\n",
      "\n",
      "C:\\Users\\HP\\AppData\\Local\\Temp\\ipykernel_17380\\3837591053.py:10: RuntimeWarning:\n",
      "\n",
      "invalid value encountered in double_scalars\n",
      "\n",
      "C:\\Users\\HP\\AppData\\Local\\Temp\\ipykernel_17380\\3837591053.py:10: RuntimeWarning:\n",
      "\n",
      "invalid value encountered in double_scalars\n",
      "\n",
      "C:\\Users\\HP\\AppData\\Local\\Temp\\ipykernel_17380\\3837591053.py:10: RuntimeWarning:\n",
      "\n",
      "invalid value encountered in double_scalars\n",
      "\n",
      "C:\\Users\\HP\\AppData\\Local\\Temp\\ipykernel_17380\\3837591053.py:10: RuntimeWarning:\n",
      "\n",
      "invalid value encountered in double_scalars\n",
      "\n",
      "C:\\Users\\HP\\AppData\\Local\\Temp\\ipykernel_17380\\3837591053.py:10: RuntimeWarning:\n",
      "\n",
      "invalid value encountered in double_scalars\n",
      "\n",
      "C:\\Users\\HP\\AppData\\Local\\Temp\\ipykernel_17380\\3837591053.py:10: RuntimeWarning:\n",
      "\n",
      "invalid value encountered in double_scalars\n",
      "\n",
      "C:\\Users\\HP\\AppData\\Local\\Temp\\ipykernel_17380\\3837591053.py:10: RuntimeWarning:\n",
      "\n",
      "divide by zero encountered in double_scalars\n",
      "\n",
      "C:\\Users\\HP\\AppData\\Local\\Temp\\ipykernel_17380\\3837591053.py:10: RuntimeWarning:\n",
      "\n",
      "invalid value encountered in double_scalars\n",
      "\n",
      "C:\\Users\\HP\\AppData\\Local\\Temp\\ipykernel_17380\\3837591053.py:10: RuntimeWarning:\n",
      "\n",
      "invalid value encountered in double_scalars\n",
      "\n",
      "C:\\Users\\HP\\AppData\\Local\\Temp\\ipykernel_17380\\3837591053.py:10: RuntimeWarning:\n",
      "\n",
      "invalid value encountered in double_scalars\n",
      "\n",
      "C:\\Users\\HP\\AppData\\Local\\Temp\\ipykernel_17380\\3837591053.py:25: DeprecationWarning:\n",
      "\n",
      "`np.bool` is a deprecated alias for the builtin `bool`. To silence this warning, use `bool` by itself. Doing this will not modify any behavior and is safe. If you specifically wanted the numpy scalar type, use `np.bool_` here.\n",
      "Deprecated in NumPy 1.20; for more details and guidance: https://numpy.org/devdocs/release/1.20.0-notes.html#deprecations\n",
      "\n"
     ]
    },
    {
     "data": {
      "application/vnd.plotly.v1+json": {
       "config": {
        "plotlyServerURL": "https://plot.ly"
       },
       "data": [
        {
         "colorscale": [
          [
           0,
           "rgb(252,251,253)"
          ],
          [
           0.125,
           "rgb(239,237,245)"
          ],
          [
           0.25,
           "rgb(218,218,235)"
          ],
          [
           0.375,
           "rgb(188,189,220)"
          ],
          [
           0.5,
           "rgb(158,154,200)"
          ],
          [
           0.625,
           "rgb(128,125,186)"
          ],
          [
           0.75,
           "rgb(106,81,163)"
          ],
          [
           0.875,
           "rgb(84,39,143)"
          ],
          [
           1,
           "rgb(63,0,125)"
          ]
         ],
         "type": "heatmap",
         "x": [
          "Unnamed: 0",
          "A1_Score",
          "A2_Score",
          "A3_Score",
          "A4_Score",
          "A5_Score",
          "A6_Score",
          "A7_Score",
          "A8_Score",
          "A9_Score",
          "A10_Score",
          "gender",
          "ethnicity",
          "jaundice",
          "austim",
          "contry_of_res",
          "used_app_before",
          "age_desc",
          "relation",
          "Class/ASD"
         ],
         "y": [
          "Unnamed: 0",
          "A1_Score",
          "A2_Score",
          "A3_Score",
          "A4_Score",
          "A5_Score",
          "A6_Score",
          "A7_Score",
          "A8_Score",
          "A9_Score",
          "A10_Score",
          "gender",
          "ethnicity",
          "jaundice",
          "austim",
          "contry_of_res",
          "used_app_before",
          "age_desc",
          "relation",
          "Class/ASD"
         ],
         "z": [
          [
           null,
           null,
           null,
           null,
           null,
           null,
           null,
           null,
           null,
           null,
           null,
           null,
           null,
           null,
           null,
           null,
           null,
           null,
           null,
           null
          ],
          [
           null,
           null,
           null,
           null,
           null,
           null,
           null,
           null,
           null,
           null,
           null,
           null,
           null,
           null,
           null,
           null,
           null,
           null,
           null,
           null
          ],
          [
           null,
           0.24,
           null,
           null,
           null,
           null,
           null,
           null,
           null,
           null,
           null,
           null,
           null,
           null,
           null,
           null,
           null,
           null,
           null,
           null
          ],
          [
           null,
           0.29,
           0.41,
           null,
           null,
           null,
           null,
           null,
           null,
           null,
           null,
           null,
           null,
           null,
           null,
           null,
           null,
           null,
           null,
           null
          ],
          [
           null,
           0.3,
           0.4,
           0.5,
           null,
           null,
           null,
           null,
           null,
           null,
           null,
           null,
           null,
           null,
           null,
           null,
           null,
           null,
           null,
           null
          ],
          [
           null,
           0.34,
           0.32,
           0.44,
           0.56,
           null,
           null,
           null,
           null,
           null,
           null,
           null,
           null,
           null,
           null,
           null,
           null,
           null,
           null,
           null
          ],
          [
           null,
           0.3,
           0.37,
           0.5,
           0.46,
           0.41,
           null,
           null,
           null,
           null,
           null,
           null,
           null,
           null,
           null,
           null,
           null,
           null,
           null,
           null
          ],
          [
           null,
           0.18,
           0.25,
           0.33,
           0.35,
           0.35,
           0.37,
           null,
           null,
           null,
           null,
           null,
           null,
           null,
           null,
           null,
           null,
           null,
           null,
           null
          ],
          [
           null,
           0.23,
           0.18,
           0.24,
           0.3,
           0.28,
           0.26,
           0.15,
           null,
           null,
           null,
           null,
           null,
           null,
           null,
           null,
           null,
           null,
           null,
           null
          ],
          [
           null,
           0.3,
           0.4,
           0.54,
           0.54,
           0.47,
           0.51,
           0.4,
           0.26,
           null,
           null,
           null,
           null,
           null,
           null,
           null,
           null,
           null,
           null,
           null
          ],
          [
           null,
           0.33,
           0.34,
           0.48,
           0.44,
           0.44,
           0.41,
           0.31,
           0.3,
           0.49,
           null,
           null,
           null,
           null,
           null,
           null,
           null,
           null,
           null,
           null
          ],
          [
           null,
           0.13,
           0.13,
           0.13,
           0.13,
           0.08,
           0.15,
           0.08,
           0,
           0.13,
           0.15,
           null,
           null,
           null,
           null,
           null,
           null,
           null,
           null,
           null
          ],
          [
           null,
           0.07,
           0.19,
           0.27,
           0.26,
           0.21,
           0.15,
           0.19,
           0.17,
           0.16,
           0.19,
           0,
           null,
           null,
           null,
           null,
           null,
           null,
           null,
           null
          ],
          [
           null,
           0.09,
           0.07,
           0.17,
           0.12,
           0.13,
           0.17,
           0.1,
           0.06,
           0.15,
           0.18,
           0,
           0.1,
           null,
           null,
           null,
           null,
           null,
           null,
           null
          ],
          [
           null,
           0.15,
           0.26,
           0.36,
           0.3,
           0.27,
           0.36,
           0.29,
           0.15,
           0.33,
           0.28,
           0.08,
           0.21,
           0.08,
           null,
           null,
           null,
           null,
           null,
           null
          ],
          [
           null,
           0.24,
           0.31,
           0.37,
           0.41,
           0.39,
           0.34,
           0.27,
           0.19,
           0.4,
           0.33,
           0.14,
           0.12,
           0,
           0.26,
           null,
           null,
           null,
           null,
           null
          ],
          [
           null,
           0,
           0.03,
           0,
           0.03,
           0,
           0,
           0,
           0,
           0,
           0.06,
           0.04,
           0.08,
           0,
           0,
           0,
           null,
           null,
           null,
           null
          ],
          [
           null,
           null,
           null,
           null,
           null,
           null,
           null,
           null,
           null,
           null,
           null,
           null,
           null,
           null,
           null,
           null,
           null,
           null,
           null,
           null
          ],
          [
           null,
           0,
           0.06,
           0.1,
           0,
           0.06,
           0.05,
           0.03,
           0,
           0.08,
           0,
           0.04,
           0.13,
           0,
           0,
           0.15,
           0.17,
           null,
           null,
           null
          ],
          [
           null,
           0.28,
           0.39,
           0.55,
           0.52,
           0.46,
           0.55,
           0.38,
           0.21,
           0.54,
           0.46,
           0.11,
           0.27,
           0.19,
           0.38,
           0.32,
           0,
           null,
           0.09,
           null
          ]
         ]
        }
       ],
       "layout": {
        "autosize": false,
        "font": {
         "family": "San Serif"
        },
        "height": 700,
        "margin": {
         "b": 150,
         "l": 150,
         "pad": 0,
         "r": 50,
         "t": 70
        },
        "template": {
         "data": {
          "bar": [
           {
            "error_x": {
             "color": "#2a3f5f"
            },
            "error_y": {
             "color": "#2a3f5f"
            },
            "marker": {
             "line": {
              "color": "#E5ECF6",
              "width": 0.5
             },
             "pattern": {
              "fillmode": "overlay",
              "size": 10,
              "solidity": 0.2
             }
            },
            "type": "bar"
           }
          ],
          "barpolar": [
           {
            "marker": {
             "line": {
              "color": "#E5ECF6",
              "width": 0.5
             },
             "pattern": {
              "fillmode": "overlay",
              "size": 10,
              "solidity": 0.2
             }
            },
            "type": "barpolar"
           }
          ],
          "carpet": [
           {
            "aaxis": {
             "endlinecolor": "#2a3f5f",
             "gridcolor": "white",
             "linecolor": "white",
             "minorgridcolor": "white",
             "startlinecolor": "#2a3f5f"
            },
            "baxis": {
             "endlinecolor": "#2a3f5f",
             "gridcolor": "white",
             "linecolor": "white",
             "minorgridcolor": "white",
             "startlinecolor": "#2a3f5f"
            },
            "type": "carpet"
           }
          ],
          "choropleth": [
           {
            "colorbar": {
             "outlinewidth": 0,
             "ticks": ""
            },
            "type": "choropleth"
           }
          ],
          "contour": [
           {
            "colorbar": {
             "outlinewidth": 0,
             "ticks": ""
            },
            "colorscale": [
             [
              0,
              "#0d0887"
             ],
             [
              0.1111111111111111,
              "#46039f"
             ],
             [
              0.2222222222222222,
              "#7201a8"
             ],
             [
              0.3333333333333333,
              "#9c179e"
             ],
             [
              0.4444444444444444,
              "#bd3786"
             ],
             [
              0.5555555555555556,
              "#d8576b"
             ],
             [
              0.6666666666666666,
              "#ed7953"
             ],
             [
              0.7777777777777778,
              "#fb9f3a"
             ],
             [
              0.8888888888888888,
              "#fdca26"
             ],
             [
              1,
              "#f0f921"
             ]
            ],
            "type": "contour"
           }
          ],
          "contourcarpet": [
           {
            "colorbar": {
             "outlinewidth": 0,
             "ticks": ""
            },
            "type": "contourcarpet"
           }
          ],
          "heatmap": [
           {
            "colorbar": {
             "outlinewidth": 0,
             "ticks": ""
            },
            "colorscale": [
             [
              0,
              "#0d0887"
             ],
             [
              0.1111111111111111,
              "#46039f"
             ],
             [
              0.2222222222222222,
              "#7201a8"
             ],
             [
              0.3333333333333333,
              "#9c179e"
             ],
             [
              0.4444444444444444,
              "#bd3786"
             ],
             [
              0.5555555555555556,
              "#d8576b"
             ],
             [
              0.6666666666666666,
              "#ed7953"
             ],
             [
              0.7777777777777778,
              "#fb9f3a"
             ],
             [
              0.8888888888888888,
              "#fdca26"
             ],
             [
              1,
              "#f0f921"
             ]
            ],
            "type": "heatmap"
           }
          ],
          "heatmapgl": [
           {
            "colorbar": {
             "outlinewidth": 0,
             "ticks": ""
            },
            "colorscale": [
             [
              0,
              "#0d0887"
             ],
             [
              0.1111111111111111,
              "#46039f"
             ],
             [
              0.2222222222222222,
              "#7201a8"
             ],
             [
              0.3333333333333333,
              "#9c179e"
             ],
             [
              0.4444444444444444,
              "#bd3786"
             ],
             [
              0.5555555555555556,
              "#d8576b"
             ],
             [
              0.6666666666666666,
              "#ed7953"
             ],
             [
              0.7777777777777778,
              "#fb9f3a"
             ],
             [
              0.8888888888888888,
              "#fdca26"
             ],
             [
              1,
              "#f0f921"
             ]
            ],
            "type": "heatmapgl"
           }
          ],
          "histogram": [
           {
            "marker": {
             "pattern": {
              "fillmode": "overlay",
              "size": 10,
              "solidity": 0.2
             }
            },
            "type": "histogram"
           }
          ],
          "histogram2d": [
           {
            "colorbar": {
             "outlinewidth": 0,
             "ticks": ""
            },
            "colorscale": [
             [
              0,
              "#0d0887"
             ],
             [
              0.1111111111111111,
              "#46039f"
             ],
             [
              0.2222222222222222,
              "#7201a8"
             ],
             [
              0.3333333333333333,
              "#9c179e"
             ],
             [
              0.4444444444444444,
              "#bd3786"
             ],
             [
              0.5555555555555556,
              "#d8576b"
             ],
             [
              0.6666666666666666,
              "#ed7953"
             ],
             [
              0.7777777777777778,
              "#fb9f3a"
             ],
             [
              0.8888888888888888,
              "#fdca26"
             ],
             [
              1,
              "#f0f921"
             ]
            ],
            "type": "histogram2d"
           }
          ],
          "histogram2dcontour": [
           {
            "colorbar": {
             "outlinewidth": 0,
             "ticks": ""
            },
            "colorscale": [
             [
              0,
              "#0d0887"
             ],
             [
              0.1111111111111111,
              "#46039f"
             ],
             [
              0.2222222222222222,
              "#7201a8"
             ],
             [
              0.3333333333333333,
              "#9c179e"
             ],
             [
              0.4444444444444444,
              "#bd3786"
             ],
             [
              0.5555555555555556,
              "#d8576b"
             ],
             [
              0.6666666666666666,
              "#ed7953"
             ],
             [
              0.7777777777777778,
              "#fb9f3a"
             ],
             [
              0.8888888888888888,
              "#fdca26"
             ],
             [
              1,
              "#f0f921"
             ]
            ],
            "type": "histogram2dcontour"
           }
          ],
          "mesh3d": [
           {
            "colorbar": {
             "outlinewidth": 0,
             "ticks": ""
            },
            "type": "mesh3d"
           }
          ],
          "parcoords": [
           {
            "line": {
             "colorbar": {
              "outlinewidth": 0,
              "ticks": ""
             }
            },
            "type": "parcoords"
           }
          ],
          "pie": [
           {
            "automargin": true,
            "type": "pie"
           }
          ],
          "scatter": [
           {
            "fillpattern": {
             "fillmode": "overlay",
             "size": 10,
             "solidity": 0.2
            },
            "type": "scatter"
           }
          ],
          "scatter3d": [
           {
            "line": {
             "colorbar": {
              "outlinewidth": 0,
              "ticks": ""
             }
            },
            "marker": {
             "colorbar": {
              "outlinewidth": 0,
              "ticks": ""
             }
            },
            "type": "scatter3d"
           }
          ],
          "scattercarpet": [
           {
            "marker": {
             "colorbar": {
              "outlinewidth": 0,
              "ticks": ""
             }
            },
            "type": "scattercarpet"
           }
          ],
          "scattergeo": [
           {
            "marker": {
             "colorbar": {
              "outlinewidth": 0,
              "ticks": ""
             }
            },
            "type": "scattergeo"
           }
          ],
          "scattergl": [
           {
            "marker": {
             "colorbar": {
              "outlinewidth": 0,
              "ticks": ""
             }
            },
            "type": "scattergl"
           }
          ],
          "scattermapbox": [
           {
            "marker": {
             "colorbar": {
              "outlinewidth": 0,
              "ticks": ""
             }
            },
            "type": "scattermapbox"
           }
          ],
          "scatterpolar": [
           {
            "marker": {
             "colorbar": {
              "outlinewidth": 0,
              "ticks": ""
             }
            },
            "type": "scatterpolar"
           }
          ],
          "scatterpolargl": [
           {
            "marker": {
             "colorbar": {
              "outlinewidth": 0,
              "ticks": ""
             }
            },
            "type": "scatterpolargl"
           }
          ],
          "scatterternary": [
           {
            "marker": {
             "colorbar": {
              "outlinewidth": 0,
              "ticks": ""
             }
            },
            "type": "scatterternary"
           }
          ],
          "surface": [
           {
            "colorbar": {
             "outlinewidth": 0,
             "ticks": ""
            },
            "colorscale": [
             [
              0,
              "#0d0887"
             ],
             [
              0.1111111111111111,
              "#46039f"
             ],
             [
              0.2222222222222222,
              "#7201a8"
             ],
             [
              0.3333333333333333,
              "#9c179e"
             ],
             [
              0.4444444444444444,
              "#bd3786"
             ],
             [
              0.5555555555555556,
              "#d8576b"
             ],
             [
              0.6666666666666666,
              "#ed7953"
             ],
             [
              0.7777777777777778,
              "#fb9f3a"
             ],
             [
              0.8888888888888888,
              "#fdca26"
             ],
             [
              1,
              "#f0f921"
             ]
            ],
            "type": "surface"
           }
          ],
          "table": [
           {
            "cells": {
             "fill": {
              "color": "#EBF0F8"
             },
             "line": {
              "color": "white"
             }
            },
            "header": {
             "fill": {
              "color": "#C8D4E3"
             },
             "line": {
              "color": "white"
             }
            },
            "type": "table"
           }
          ]
         },
         "layout": {
          "annotationdefaults": {
           "arrowcolor": "#2a3f5f",
           "arrowhead": 0,
           "arrowwidth": 1
          },
          "autotypenumbers": "strict",
          "coloraxis": {
           "colorbar": {
            "outlinewidth": 0,
            "ticks": ""
           }
          },
          "colorscale": {
           "diverging": [
            [
             0,
             "#8e0152"
            ],
            [
             0.1,
             "#c51b7d"
            ],
            [
             0.2,
             "#de77ae"
            ],
            [
             0.3,
             "#f1b6da"
            ],
            [
             0.4,
             "#fde0ef"
            ],
            [
             0.5,
             "#f7f7f7"
            ],
            [
             0.6,
             "#e6f5d0"
            ],
            [
             0.7,
             "#b8e186"
            ],
            [
             0.8,
             "#7fbc41"
            ],
            [
             0.9,
             "#4d9221"
            ],
            [
             1,
             "#276419"
            ]
           ],
           "sequential": [
            [
             0,
             "#0d0887"
            ],
            [
             0.1111111111111111,
             "#46039f"
            ],
            [
             0.2222222222222222,
             "#7201a8"
            ],
            [
             0.3333333333333333,
             "#9c179e"
            ],
            [
             0.4444444444444444,
             "#bd3786"
            ],
            [
             0.5555555555555556,
             "#d8576b"
            ],
            [
             0.6666666666666666,
             "#ed7953"
            ],
            [
             0.7777777777777778,
             "#fb9f3a"
            ],
            [
             0.8888888888888888,
             "#fdca26"
            ],
            [
             1,
             "#f0f921"
            ]
           ],
           "sequentialminus": [
            [
             0,
             "#0d0887"
            ],
            [
             0.1111111111111111,
             "#46039f"
            ],
            [
             0.2222222222222222,
             "#7201a8"
            ],
            [
             0.3333333333333333,
             "#9c179e"
            ],
            [
             0.4444444444444444,
             "#bd3786"
            ],
            [
             0.5555555555555556,
             "#d8576b"
            ],
            [
             0.6666666666666666,
             "#ed7953"
            ],
            [
             0.7777777777777778,
             "#fb9f3a"
            ],
            [
             0.8888888888888888,
             "#fdca26"
            ],
            [
             1,
             "#f0f921"
            ]
           ]
          },
          "colorway": [
           "#636efa",
           "#EF553B",
           "#00cc96",
           "#ab63fa",
           "#FFA15A",
           "#19d3f3",
           "#FF6692",
           "#B6E880",
           "#FF97FF",
           "#FECB52"
          ],
          "font": {
           "color": "#2a3f5f"
          },
          "geo": {
           "bgcolor": "white",
           "lakecolor": "white",
           "landcolor": "#E5ECF6",
           "showlakes": true,
           "showland": true,
           "subunitcolor": "white"
          },
          "hoverlabel": {
           "align": "left"
          },
          "hovermode": "closest",
          "mapbox": {
           "style": "light"
          },
          "paper_bgcolor": "white",
          "plot_bgcolor": "#E5ECF6",
          "polar": {
           "angularaxis": {
            "gridcolor": "white",
            "linecolor": "white",
            "ticks": ""
           },
           "bgcolor": "#E5ECF6",
           "radialaxis": {
            "gridcolor": "white",
            "linecolor": "white",
            "ticks": ""
           }
          },
          "scene": {
           "xaxis": {
            "backgroundcolor": "#E5ECF6",
            "gridcolor": "white",
            "gridwidth": 2,
            "linecolor": "white",
            "showbackground": true,
            "ticks": "",
            "zerolinecolor": "white"
           },
           "yaxis": {
            "backgroundcolor": "#E5ECF6",
            "gridcolor": "white",
            "gridwidth": 2,
            "linecolor": "white",
            "showbackground": true,
            "ticks": "",
            "zerolinecolor": "white"
           },
           "zaxis": {
            "backgroundcolor": "#E5ECF6",
            "gridcolor": "white",
            "gridwidth": 2,
            "linecolor": "white",
            "showbackground": true,
            "ticks": "",
            "zerolinecolor": "white"
           }
          },
          "shapedefaults": {
           "line": {
            "color": "#2a3f5f"
           }
          },
          "ternary": {
           "aaxis": {
            "gridcolor": "white",
            "linecolor": "white",
            "ticks": ""
           },
           "baxis": {
            "gridcolor": "white",
            "linecolor": "white",
            "ticks": ""
           },
           "bgcolor": "#E5ECF6",
           "caxis": {
            "gridcolor": "white",
            "linecolor": "white",
            "ticks": ""
           }
          },
          "title": {
           "x": 0.05
          },
          "xaxis": {
           "automargin": true,
           "gridcolor": "white",
           "linecolor": "white",
           "ticks": "",
           "title": {
            "standoff": 15
           },
           "zerolinecolor": "white",
           "zerolinewidth": 2
          },
          "yaxis": {
           "automargin": true,
           "gridcolor": "white",
           "linecolor": "white",
           "ticks": "",
           "title": {
            "standoff": 15
           },
           "zerolinecolor": "white",
           "zerolinewidth": 2
          }
         }
        },
        "title": {
         "font": {
          "size": 20
         },
         "text": "<b>Correlation Heatmap (Categorical features) <b>",
         "x": 0.5
        },
        "width": 750,
        "xaxis": {
         "showgrid": false,
         "side": "bottom"
        },
        "yaxis": {
         "autorange": "reversed",
         "showgrid": false
        }
       }
      }
     },
     "metadata": {},
     "output_type": "display_data"
    }
   ],
   "source": [
    "def cramers_v(x, y): \n",
    "    confusion_matrix = pd.crosstab(x,y)\n",
    "    chi2 = stats.chi2_contingency(confusion_matrix)[0]\n",
    "    n = confusion_matrix.sum().sum()\n",
    "    phi2 = chi2/n\n",
    "    r,k = confusion_matrix.shape\n",
    "    phi2corr = max(0, phi2-((k-1)*(r-1))/(n-1))\n",
    "    rcorr = r-((r-1)**2)/(n-1)\n",
    "    kcorr = k-((k-1)**2)/(n-1)\n",
    "    return np.sqrt(phi2corr/min((kcorr-1),(rcorr-1)))\n",
    "\n",
    "\n",
    "def plot_carmersV_corr(df):\n",
    "    rows= []\n",
    "    for x in df:\n",
    "        col = []\n",
    "        for y in df :\n",
    "            cramers =cramers_v(df[x], df[y])\n",
    "            col.append(round(cramers,2))\n",
    "        rows.append(col)\n",
    "\n",
    "    cramers_results = np.array(rows)\n",
    "    df_corr = pd.DataFrame(cramers_results, columns = df.columns, index = df.columns)\n",
    "\n",
    "    mask = np.triu(np.ones_like(df_corr, dtype=np.bool))\n",
    "    df_corr = df_corr.mask(mask)\n",
    "\n",
    "\n",
    "    fig = go.Figure(data= go.Heatmap(z=df_corr,\n",
    "                                     x=df_corr.index.values,\n",
    "                                     y=df_corr.columns.values,\n",
    "                                     colorscale='purples',                                  \n",
    "                                     )\n",
    "                    )\n",
    "    fig.update_layout(title_text='<b>Correlation Heatmap (Categorical features) <b>',\n",
    "                      font_family=\"San Serif\",\n",
    "                      title_x=0.5,\n",
    "                      titlefont={'size': 20},\n",
    "                      width=750, height=700,\n",
    "                      xaxis_showgrid=False,\n",
    "                      xaxis={'side': 'bottom'},\n",
    "                      yaxis_showgrid=False,\n",
    "                      yaxis_autorange='reversed',                   \n",
    "                                        autosize=False,\n",
    "                      margin=dict(l=150,r=50,b=150,t=70,pad=0),\n",
    "                      )\n",
    "    fig.show()\n",
    "    \n",
    "plot_carmersV_corr(data.drop(['age', 'result'], axis=1))"
   ]
  },
  {
   "cell_type": "code",
   "execution_count": 3,
   "metadata": {},
   "outputs": [],
   "source": [
    "x_train=pd.read_csv('x_train.csv')"
   ]
  },
  {
   "cell_type": "code",
   "execution_count": 4,
   "metadata": {},
   "outputs": [
    {
     "data": {
      "text/html": [
       "<div>\n",
       "<style scoped>\n",
       "    .dataframe tbody tr th:only-of-type {\n",
       "        vertical-align: middle;\n",
       "    }\n",
       "\n",
       "    .dataframe tbody tr th {\n",
       "        vertical-align: top;\n",
       "    }\n",
       "\n",
       "    .dataframe thead th {\n",
       "        text-align: right;\n",
       "    }\n",
       "</style>\n",
       "<table border=\"1\" class=\"dataframe\">\n",
       "  <thead>\n",
       "    <tr style=\"text-align: right;\">\n",
       "      <th></th>\n",
       "      <th>Unnamed: 0</th>\n",
       "      <th>A1_Score</th>\n",
       "      <th>A2_Score</th>\n",
       "      <th>A3_Score</th>\n",
       "      <th>A4_Score</th>\n",
       "      <th>A5_Score</th>\n",
       "      <th>A6_Score</th>\n",
       "      <th>A7_Score</th>\n",
       "      <th>A8_Score</th>\n",
       "      <th>A9_Score</th>\n",
       "      <th>A10_Score</th>\n",
       "      <th>age</th>\n",
       "      <th>ethnicity</th>\n",
       "      <th>jaundice</th>\n",
       "      <th>austim</th>\n",
       "      <th>contry_of_res</th>\n",
       "      <th>result</th>\n",
       "    </tr>\n",
       "  </thead>\n",
       "  <tbody>\n",
       "    <tr>\n",
       "      <th>0</th>\n",
       "      <td>425</td>\n",
       "      <td>0</td>\n",
       "      <td>0</td>\n",
       "      <td>1</td>\n",
       "      <td>1</td>\n",
       "      <td>1</td>\n",
       "      <td>0</td>\n",
       "      <td>0</td>\n",
       "      <td>1</td>\n",
       "      <td>0</td>\n",
       "      <td>1</td>\n",
       "      <td>42.061760</td>\n",
       "      <td>9</td>\n",
       "      <td>0</td>\n",
       "      <td>0</td>\n",
       "      <td>44</td>\n",
       "      <td>7.277024</td>\n",
       "    </tr>\n",
       "    <tr>\n",
       "      <th>1</th>\n",
       "      <td>12</td>\n",
       "      <td>1</td>\n",
       "      <td>0</td>\n",
       "      <td>1</td>\n",
       "      <td>1</td>\n",
       "      <td>1</td>\n",
       "      <td>1</td>\n",
       "      <td>1</td>\n",
       "      <td>1</td>\n",
       "      <td>1</td>\n",
       "      <td>1</td>\n",
       "      <td>29.112066</td>\n",
       "      <td>9</td>\n",
       "      <td>1</td>\n",
       "      <td>1</td>\n",
       "      <td>54</td>\n",
       "      <td>12.811125</td>\n",
       "    </tr>\n",
       "    <tr>\n",
       "      <th>2</th>\n",
       "      <td>139</td>\n",
       "      <td>0</td>\n",
       "      <td>0</td>\n",
       "      <td>1</td>\n",
       "      <td>1</td>\n",
       "      <td>0</td>\n",
       "      <td>0</td>\n",
       "      <td>1</td>\n",
       "      <td>1</td>\n",
       "      <td>0</td>\n",
       "      <td>0</td>\n",
       "      <td>22.120522</td>\n",
       "      <td>9</td>\n",
       "      <td>0</td>\n",
       "      <td>0</td>\n",
       "      <td>31</td>\n",
       "      <td>5.224789</td>\n",
       "    </tr>\n",
       "    <tr>\n",
       "      <th>3</th>\n",
       "      <td>149</td>\n",
       "      <td>1</td>\n",
       "      <td>0</td>\n",
       "      <td>1</td>\n",
       "      <td>1</td>\n",
       "      <td>1</td>\n",
       "      <td>0</td>\n",
       "      <td>0</td>\n",
       "      <td>1</td>\n",
       "      <td>1</td>\n",
       "      <td>1</td>\n",
       "      <td>23.456872</td>\n",
       "      <td>9</td>\n",
       "      <td>1</td>\n",
       "      <td>0</td>\n",
       "      <td>26</td>\n",
       "      <td>4.528127</td>\n",
       "    </tr>\n",
       "    <tr>\n",
       "      <th>4</th>\n",
       "      <td>615</td>\n",
       "      <td>1</td>\n",
       "      <td>0</td>\n",
       "      <td>0</td>\n",
       "      <td>0</td>\n",
       "      <td>1</td>\n",
       "      <td>0</td>\n",
       "      <td>0</td>\n",
       "      <td>1</td>\n",
       "      <td>1</td>\n",
       "      <td>0</td>\n",
       "      <td>28.983539</td>\n",
       "      <td>3</td>\n",
       "      <td>0</td>\n",
       "      <td>0</td>\n",
       "      <td>1</td>\n",
       "      <td>8.523430</td>\n",
       "    </tr>\n",
       "    <tr>\n",
       "      <th>...</th>\n",
       "      <td>...</td>\n",
       "      <td>...</td>\n",
       "      <td>...</td>\n",
       "      <td>...</td>\n",
       "      <td>...</td>\n",
       "      <td>...</td>\n",
       "      <td>...</td>\n",
       "      <td>...</td>\n",
       "      <td>...</td>\n",
       "      <td>...</td>\n",
       "      <td>...</td>\n",
       "      <td>...</td>\n",
       "      <td>...</td>\n",
       "      <td>...</td>\n",
       "      <td>...</td>\n",
       "      <td>...</td>\n",
       "      <td>...</td>\n",
       "    </tr>\n",
       "    <tr>\n",
       "      <th>497</th>\n",
       "      <td>101</td>\n",
       "      <td>1</td>\n",
       "      <td>0</td>\n",
       "      <td>0</td>\n",
       "      <td>0</td>\n",
       "      <td>0</td>\n",
       "      <td>0</td>\n",
       "      <td>0</td>\n",
       "      <td>0</td>\n",
       "      <td>0</td>\n",
       "      <td>0</td>\n",
       "      <td>45.374722</td>\n",
       "      <td>0</td>\n",
       "      <td>0</td>\n",
       "      <td>0</td>\n",
       "      <td>35</td>\n",
       "      <td>6.115176</td>\n",
       "    </tr>\n",
       "    <tr>\n",
       "      <th>498</th>\n",
       "      <td>141</td>\n",
       "      <td>1</td>\n",
       "      <td>0</td>\n",
       "      <td>1</td>\n",
       "      <td>1</td>\n",
       "      <td>1</td>\n",
       "      <td>0</td>\n",
       "      <td>1</td>\n",
       "      <td>1</td>\n",
       "      <td>1</td>\n",
       "      <td>1</td>\n",
       "      <td>47.988009</td>\n",
       "      <td>9</td>\n",
       "      <td>0</td>\n",
       "      <td>0</td>\n",
       "      <td>53</td>\n",
       "      <td>9.640370</td>\n",
       "    </tr>\n",
       "    <tr>\n",
       "      <th>499</th>\n",
       "      <td>348</td>\n",
       "      <td>0</td>\n",
       "      <td>0</td>\n",
       "      <td>0</td>\n",
       "      <td>0</td>\n",
       "      <td>0</td>\n",
       "      <td>0</td>\n",
       "      <td>0</td>\n",
       "      <td>1</td>\n",
       "      <td>0</td>\n",
       "      <td>0</td>\n",
       "      <td>43.200863</td>\n",
       "      <td>9</td>\n",
       "      <td>1</td>\n",
       "      <td>0</td>\n",
       "      <td>26</td>\n",
       "      <td>8.236165</td>\n",
       "    </tr>\n",
       "    <tr>\n",
       "      <th>500</th>\n",
       "      <td>554</td>\n",
       "      <td>0</td>\n",
       "      <td>0</td>\n",
       "      <td>0</td>\n",
       "      <td>0</td>\n",
       "      <td>0</td>\n",
       "      <td>0</td>\n",
       "      <td>0</td>\n",
       "      <td>1</td>\n",
       "      <td>0</td>\n",
       "      <td>0</td>\n",
       "      <td>30.766961</td>\n",
       "      <td>5</td>\n",
       "      <td>0</td>\n",
       "      <td>0</td>\n",
       "      <td>54</td>\n",
       "      <td>6.727457</td>\n",
       "    </tr>\n",
       "    <tr>\n",
       "      <th>501</th>\n",
       "      <td>137</td>\n",
       "      <td>0</td>\n",
       "      <td>0</td>\n",
       "      <td>0</td>\n",
       "      <td>1</td>\n",
       "      <td>0</td>\n",
       "      <td>0</td>\n",
       "      <td>0</td>\n",
       "      <td>1</td>\n",
       "      <td>0</td>\n",
       "      <td>0</td>\n",
       "      <td>25.776503</td>\n",
       "      <td>9</td>\n",
       "      <td>0</td>\n",
       "      <td>0</td>\n",
       "      <td>13</td>\n",
       "      <td>9.159209</td>\n",
       "    </tr>\n",
       "  </tbody>\n",
       "</table>\n",
       "<p>502 rows × 17 columns</p>\n",
       "</div>"
      ],
      "text/plain": [
       "     Unnamed: 0  A1_Score  A2_Score  A3_Score  A4_Score  A5_Score  A6_Score  \\\n",
       "0           425         0         0         1         1         1         0   \n",
       "1            12         1         0         1         1         1         1   \n",
       "2           139         0         0         1         1         0         0   \n",
       "3           149         1         0         1         1         1         0   \n",
       "4           615         1         0         0         0         1         0   \n",
       "..          ...       ...       ...       ...       ...       ...       ...   \n",
       "497         101         1         0         0         0         0         0   \n",
       "498         141         1         0         1         1         1         0   \n",
       "499         348         0         0         0         0         0         0   \n",
       "500         554         0         0         0         0         0         0   \n",
       "501         137         0         0         0         1         0         0   \n",
       "\n",
       "     A7_Score  A8_Score  A9_Score  A10_Score        age  ethnicity  jaundice  \\\n",
       "0           0         1         0          1  42.061760          9         0   \n",
       "1           1         1         1          1  29.112066          9         1   \n",
       "2           1         1         0          0  22.120522          9         0   \n",
       "3           0         1         1          1  23.456872          9         1   \n",
       "4           0         1         1          0  28.983539          3         0   \n",
       "..        ...       ...       ...        ...        ...        ...       ...   \n",
       "497         0         0         0          0  45.374722          0         0   \n",
       "498         1         1         1          1  47.988009          9         0   \n",
       "499         0         1         0          0  43.200863          9         1   \n",
       "500         0         1         0          0  30.766961          5         0   \n",
       "501         0         1         0          0  25.776503          9         0   \n",
       "\n",
       "     austim  contry_of_res     result  \n",
       "0         0             44   7.277024  \n",
       "1         1             54  12.811125  \n",
       "2         0             31   5.224789  \n",
       "3         0             26   4.528127  \n",
       "4         0              1   8.523430  \n",
       "..      ...            ...        ...  \n",
       "497       0             35   6.115176  \n",
       "498       0             53   9.640370  \n",
       "499       0             26   8.236165  \n",
       "500       0             54   6.727457  \n",
       "501       0             13   9.159209  \n",
       "\n",
       "[502 rows x 17 columns]"
      ]
     },
     "execution_count": 4,
     "metadata": {},
     "output_type": "execute_result"
    }
   ],
   "source": [
    "x_train"
   ]
  },
  {
   "cell_type": "code",
   "execution_count": 1,
   "metadata": {},
   "outputs": [],
   "source": [
    "import pandas as pd\n",
    "\n",
    "data = {\n",
    "    'A1_Score': [0.0439],\n",
    "    'A2_Score': [0.0726],\n",
    "    'A3_Score': [0.1533],\n",
    "    'A4_Score': [0.1486],\n",
    "    'A5_Score': [0.1175],\n",
    "    'A6_Score': [0.1372],\n",
    "    'A7_Score': [0.0697],\n",
    "    'A8_Score': [0.027],\n",
    "    'A9_Score': [0.1474],\n",
    "    'A10_Score': [0.1172],\n",
    "    'age': [0.0277],\n",
    "    'gender': [0.0073],\n",
    "    'ethnicity': [0.0484],\n",
    "    'jaundice': [0.018],\n",
    "    'austim': [0.0663],\n",
    "    'contry_of_res': [0.1041],\n",
    "    'used_app_before': [0.0],\n",
    "    'result': [0.1512],\n",
    "    'age_desc': [0.0],\n",
    "    'relation': [0.0092]\n",
    "}\n",
    "\n",
    "df = pd.DataFrame(data).T.reset_index()\n",
    "df.columns = ['Feature', 'Value']\n",
    "df = df.rename(columns={'index': 'Feature'})\n"
   ]
  },
  {
   "cell_type": "code",
   "execution_count": 2,
   "metadata": {},
   "outputs": [
    {
     "data": {
      "text/html": [
       "<div>\n",
       "<style scoped>\n",
       "    .dataframe tbody tr th:only-of-type {\n",
       "        vertical-align: middle;\n",
       "    }\n",
       "\n",
       "    .dataframe tbody tr th {\n",
       "        vertical-align: top;\n",
       "    }\n",
       "\n",
       "    .dataframe thead th {\n",
       "        text-align: right;\n",
       "    }\n",
       "</style>\n",
       "<table border=\"1\" class=\"dataframe\">\n",
       "  <thead>\n",
       "    <tr style=\"text-align: right;\">\n",
       "      <th></th>\n",
       "      <th>Feature</th>\n",
       "      <th>Value</th>\n",
       "    </tr>\n",
       "  </thead>\n",
       "  <tbody>\n",
       "    <tr>\n",
       "      <th>0</th>\n",
       "      <td>A1_Score</td>\n",
       "      <td>0.0439</td>\n",
       "    </tr>\n",
       "    <tr>\n",
       "      <th>1</th>\n",
       "      <td>A2_Score</td>\n",
       "      <td>0.0726</td>\n",
       "    </tr>\n",
       "    <tr>\n",
       "      <th>2</th>\n",
       "      <td>A3_Score</td>\n",
       "      <td>0.1533</td>\n",
       "    </tr>\n",
       "    <tr>\n",
       "      <th>3</th>\n",
       "      <td>A4_Score</td>\n",
       "      <td>0.1486</td>\n",
       "    </tr>\n",
       "    <tr>\n",
       "      <th>4</th>\n",
       "      <td>A5_Score</td>\n",
       "      <td>0.1175</td>\n",
       "    </tr>\n",
       "    <tr>\n",
       "      <th>5</th>\n",
       "      <td>A6_Score</td>\n",
       "      <td>0.1372</td>\n",
       "    </tr>\n",
       "    <tr>\n",
       "      <th>6</th>\n",
       "      <td>A7_Score</td>\n",
       "      <td>0.0697</td>\n",
       "    </tr>\n",
       "    <tr>\n",
       "      <th>7</th>\n",
       "      <td>A8_Score</td>\n",
       "      <td>0.0270</td>\n",
       "    </tr>\n",
       "    <tr>\n",
       "      <th>8</th>\n",
       "      <td>A9_Score</td>\n",
       "      <td>0.1474</td>\n",
       "    </tr>\n",
       "    <tr>\n",
       "      <th>9</th>\n",
       "      <td>A10_Score</td>\n",
       "      <td>0.1172</td>\n",
       "    </tr>\n",
       "    <tr>\n",
       "      <th>10</th>\n",
       "      <td>age</td>\n",
       "      <td>0.0277</td>\n",
       "    </tr>\n",
       "    <tr>\n",
       "      <th>11</th>\n",
       "      <td>gender</td>\n",
       "      <td>0.0073</td>\n",
       "    </tr>\n",
       "    <tr>\n",
       "      <th>12</th>\n",
       "      <td>ethnicity</td>\n",
       "      <td>0.0484</td>\n",
       "    </tr>\n",
       "    <tr>\n",
       "      <th>13</th>\n",
       "      <td>jaundice</td>\n",
       "      <td>0.0180</td>\n",
       "    </tr>\n",
       "    <tr>\n",
       "      <th>14</th>\n",
       "      <td>austim</td>\n",
       "      <td>0.0663</td>\n",
       "    </tr>\n",
       "    <tr>\n",
       "      <th>15</th>\n",
       "      <td>contry_of_res</td>\n",
       "      <td>0.1041</td>\n",
       "    </tr>\n",
       "    <tr>\n",
       "      <th>16</th>\n",
       "      <td>used_app_before</td>\n",
       "      <td>0.0000</td>\n",
       "    </tr>\n",
       "    <tr>\n",
       "      <th>17</th>\n",
       "      <td>result</td>\n",
       "      <td>0.1512</td>\n",
       "    </tr>\n",
       "    <tr>\n",
       "      <th>18</th>\n",
       "      <td>age_desc</td>\n",
       "      <td>0.0000</td>\n",
       "    </tr>\n",
       "    <tr>\n",
       "      <th>19</th>\n",
       "      <td>relation</td>\n",
       "      <td>0.0092</td>\n",
       "    </tr>\n",
       "  </tbody>\n",
       "</table>\n",
       "</div>"
      ],
      "text/plain": [
       "            Feature   Value\n",
       "0          A1_Score  0.0439\n",
       "1          A2_Score  0.0726\n",
       "2          A3_Score  0.1533\n",
       "3          A4_Score  0.1486\n",
       "4          A5_Score  0.1175\n",
       "5          A6_Score  0.1372\n",
       "6          A7_Score  0.0697\n",
       "7          A8_Score  0.0270\n",
       "8          A9_Score  0.1474\n",
       "9         A10_Score  0.1172\n",
       "10              age  0.0277\n",
       "11           gender  0.0073\n",
       "12        ethnicity  0.0484\n",
       "13         jaundice  0.0180\n",
       "14           austim  0.0663\n",
       "15    contry_of_res  0.1041\n",
       "16  used_app_before  0.0000\n",
       "17           result  0.1512\n",
       "18         age_desc  0.0000\n",
       "19         relation  0.0092"
      ]
     },
     "execution_count": 2,
     "metadata": {},
     "output_type": "execute_result"
    }
   ],
   "source": [
    "df"
   ]
  },
  {
   "cell_type": "code",
   "execution_count": null,
   "metadata": {},
   "outputs": [],
   "source": []
  }
 ],
 "metadata": {
  "kernelspec": {
   "display_name": "Python 3",
   "language": "python",
   "name": "python3"
  },
  "language_info": {
   "codemirror_mode": {
    "name": "ipython",
    "version": 3
   },
   "file_extension": ".py",
   "mimetype": "text/x-python",
   "name": "python",
   "nbconvert_exporter": "python",
   "pygments_lexer": "ipython3",
   "version": "3.10.2"
  },
  "orig_nbformat": 4
 },
 "nbformat": 4,
 "nbformat_minor": 2
}
