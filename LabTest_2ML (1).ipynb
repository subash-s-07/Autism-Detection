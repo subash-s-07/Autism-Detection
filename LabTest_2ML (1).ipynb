{
  "cells": [
    {
      "cell_type": "code",
      "source": [
        "!pip install lime\n",
        "!pip install datacleaner\n",
        "!pip install scikit-learn==1.3.1"
      ],
      "metadata": {
        "id": "AJrOmW_R4_gV"
      },
      "execution_count": null,
      "outputs": []
    },
    {
      "cell_type": "code",
      "execution_count": null,
      "metadata": {
        "id": "K-FNMt07mJxf"
      },
      "outputs": [],
      "source": [
        "import pandas as pd\n",
        "import numpy as np\n",
        "from datacleaner import autoclean\n",
        "import statistics\n",
        "from collections import Counter\n",
        "import math\n",
        "from sklearn.feature_selection import mutual_info_classif\n",
        "import plotly.express as px\n",
        "from sklearn.model_selection import train_test_split\n",
        "from sklearn.linear_model import LogisticRegression\n",
        "from sklearn.metrics import accuracy_score\n",
        "from sklearn.model_selection import KFold\n",
        "import pickle\n",
        "from lime.lime_tabular import LimeTabularExplainer"
      ]
    },
    {
      "cell_type": "code",
      "execution_count": null,
      "metadata": {
        "id": "9Q8QlqxJna-9"
      },
      "outputs": [],
      "source": [
        "data=pd.read_csv('/content/train.csv')"
      ]
    },
    {
      "cell_type": "markdown",
      "metadata": {
        "id": "WfXG2BC4n4Xs"
      },
      "source": [
        "\n",
        "    ID - ID of the patient\n",
        "    A1_Score to A10_Score - Score based on Autism Spectrum Quotient (AQ) 10 item screening tool\n",
        "    age - Age of the patient in years\n",
        "    gender - Gender of the patient\n",
        "    ethnicity - Ethnicity of the patient\n",
        "    jaundice - Whether the patient had jaundice at the time of birth\n",
        "    autism - Whether an immediate family member has been diagnosed with autism\n",
        "    contry_of_res - Country of residence of the patient\n",
        "    used_app_before - Whether the patient has undergone a screening test before\n",
        "    result - Score for AQ1-10 screening test\n",
        "    age_desc - Age of the patient\n",
        "    relation - Relation of patient who completed the test\n",
        "    Class/ASD - Classified result as 0 or 1. Here 0 represents No and 1 represents Yes. This is the target column, and during submission submit the values as 0 or 1 only.\n",
        "\n"
      ]
    },
    {
      "cell_type": "code",
      "execution_count": null,
      "metadata": {
        "id": "_fBgw57-zZrd"
      },
      "outputs": [],
      "source": [
        "data=data.drop('ID',axis=1)"
      ]
    },
    {
      "cell_type": "code",
      "execution_count": null,
      "metadata": {
        "id": "7jZZrgx7no_u"
      },
      "outputs": [],
      "source": [
        "data.head()"
      ]
    },
    {
      "cell_type": "code",
      "execution_count": null,
      "metadata": {
        "id": "FgPm4C-Mnpa3"
      },
      "outputs": [],
      "source": [
        "data.info()"
      ]
    },
    {
      "cell_type": "code",
      "execution_count": null,
      "metadata": {
        "id": "wulXGYX3ntaX"
      },
      "outputs": [],
      "source": [
        "data.describe()"
      ]
    },
    {
      "cell_type": "code",
      "execution_count": null,
      "metadata": {
        "id": "MF-wrc9eoRJV"
      },
      "outputs": [],
      "source": []
    },
    {
      "cell_type": "code",
      "execution_count": null,
      "metadata": {
        "id": "WXwOKofLqzzw"
      },
      "outputs": [],
      "source": [
        "data['ethnicity'].unique()"
      ]
    },
    {
      "cell_type": "code",
      "execution_count": null,
      "metadata": {
        "id": "vwJbba4IrHnF"
      },
      "outputs": [],
      "source": [
        "c=data.columns\n",
        "c"
      ]
    },
    {
      "cell_type": "code",
      "source": [
        "data=data[data['age']>=18]\n",
        "data=data[data['result']>=0]\n",
        "data"
      ],
      "metadata": {
        "id": "Myaup7tokf66"
      },
      "execution_count": null,
      "outputs": []
    },
    {
      "cell_type": "code",
      "source": [
        "for i in range(0,len(c)-1):\n",
        "  fig = px.box(data, y=c[i])\n",
        "  fig.show()"
      ],
      "metadata": {
        "id": "XxhoxyISjeE0"
      },
      "execution_count": null,
      "outputs": []
    },
    {
      "cell_type": "code",
      "execution_count": null,
      "metadata": {
        "id": "vpJNXaiUrjm3"
      },
      "outputs": [],
      "source": [
        "for i in c:\n",
        "  if '?' in list(data[i].unique()):\n",
        "    m=(statistics.mode(list(data[i])))\n",
        "    data=data.replace({i:'?'},m)"
      ]
    },
    {
      "cell_type": "code",
      "execution_count": null,
      "metadata": {
        "id": "oicnWvierovG"
      },
      "outputs": [],
      "source": [
        "data"
      ]
    },
    {
      "cell_type": "code",
      "source": [
        "data.to_csv('Dav_data.csv')"
      ],
      "metadata": {
        "id": "DW1hGq8Thp5N"
      },
      "execution_count": null,
      "outputs": []
    },
    {
      "cell_type": "code",
      "source": [
        "data=autoclean(data)"
      ],
      "metadata": {
        "id": "1ll8ZgBTci8W"
      },
      "execution_count": null,
      "outputs": []
    },
    {
      "cell_type": "code",
      "source": [
        "data"
      ],
      "metadata": {
        "id": "Fmq9v_AKeS2A"
      },
      "execution_count": null,
      "outputs": []
    },
    {
      "cell_type": "code",
      "execution_count": null,
      "metadata": {
        "id": "IkMKxaoROpoO"
      },
      "outputs": [],
      "source": [
        "dict={}\n",
        "for i in data:\n",
        "  dict[i]=(Counter(list(data[i])))\n",
        "  print((Counter(list(data[i]))))"
      ]
    },
    {
      "cell_type": "code",
      "execution_count": null,
      "metadata": {
        "id": "-8YOGOpus3XF"
      },
      "outputs": [],
      "source": [
        "dict_yes={}\n",
        "for i in data:\n",
        "  dict_yes[i]=(Counter(list(data[data['Class/ASD']==1][i])))\n",
        "  print((Counter(list(data[data['Class/ASD']==1][i]))))"
      ]
    },
    {
      "cell_type": "code",
      "execution_count": null,
      "metadata": {
        "id": "jDDF6W79viCG"
      },
      "outputs": [],
      "source": [
        "dict_no={}\n",
        "for i in data:\n",
        "  dict_no[i]=(Counter(list(data[data['Class/ASD']==0][i])))\n",
        "  print((Counter(list(data[data['Class/ASD']==0][i]))))"
      ]
    },
    {
      "cell_type": "code",
      "execution_count": null,
      "metadata": {
        "id": "ECjCnGK9woOH"
      },
      "outputs": [],
      "source": [
        "yes_count=dict_yes['Class/ASD'][1]\n",
        "yes_count"
      ]
    },
    {
      "cell_type": "code",
      "execution_count": null,
      "metadata": {
        "id": "PcwhKN41w64m"
      },
      "outputs": [],
      "source": [
        "no_count=dict_no['Class/ASD'][0]\n",
        "no_count"
      ]
    },
    {
      "cell_type": "code",
      "execution_count": null,
      "metadata": {
        "id": "og8rSg6YxTOv"
      },
      "outputs": [],
      "source": [
        "def compute(x,y):\n",
        "  if x==0 or y==0:\n",
        "    return 1\n",
        "  t=x+y\n",
        "  x=x/t\n",
        "  y=y/t\n",
        "  return -(x*math.log2(x)+y*math.log2(y))"
      ]
    },
    {
      "cell_type": "code",
      "execution_count": null,
      "metadata": {
        "id": "Kq03BCJFxLF1"
      },
      "outputs": [],
      "source": [
        "total_entropy=compute(yes_count,no_count)"
      ]
    },
    {
      "cell_type": "code",
      "execution_count": null,
      "metadata": {
        "id": "D7VRqC_Bx-14"
      },
      "outputs": [],
      "source": [
        "total_entropy"
      ]
    },
    {
      "cell_type": "markdown",
      "metadata": {
        "id": "Z9-Jc9DG0YeN"
      },
      "source": [
        "A1 Score"
      ]
    },
    {
      "cell_type": "code",
      "execution_count": null,
      "metadata": {
        "id": "uDyli1AZW7oB"
      },
      "outputs": [],
      "source": [
        "entropy={}"
      ]
    },
    {
      "cell_type": "code",
      "execution_count": null,
      "metadata": {
        "id": "1veCboG_yAgH"
      },
      "outputs": [],
      "source": [
        "for i in c:\n",
        "  l=[]\n",
        "  for j in dict_yes[i]:\n",
        "    l.append(compute(dict_yes[i][j],dict_no[i][j]))\n",
        "  e=0\n",
        "  m=0\n",
        "  for k in dict_yes[i]:\n",
        "    e=e+dict[i][k]*l[m]/len(data)\n",
        "    m+=1\n",
        "  entropy[i]=total_entropy-e\n"
      ]
    },
    {
      "cell_type": "code",
      "execution_count": null,
      "metadata": {
        "id": "1tWiTBwM1D0m"
      },
      "outputs": [],
      "source": [
        "entropy"
      ]
    },
    {
      "cell_type": "code",
      "execution_count": null,
      "metadata": {
        "id": "UN_JsPJwXiBZ"
      },
      "outputs": [],
      "source": [
        "import pandas as pd\n",
        "from sklearn.feature_selection import mutual_info_classif\n",
        "target_column = 'Class/ASD'\n",
        "X = data.drop(target_column,axis=1)\n",
        "y = data[target_column]\n",
        "d_c=[True,True,True,True,True,True,True,True,True,True,True,True,True,True,True,True,True,True,True,True]\n",
        "d_c[10]=False\n",
        "d_c[17]=False\n",
        "mutual_info_scores = mutual_info_classif(X, y, discrete_features=d_c)\n",
        "information={}\n",
        "for i in range(0,len(c)-1):\n",
        "  information[c[i]]=round(mutual_info_scores[i],4)\n",
        "information\n"
      ]
    },
    {
      "cell_type": "code",
      "source": [
        "for i in c[0:len(c)-1]:\n",
        "  if information[i]<=0.01:\n",
        "    data=data.drop(i,axis=1)"
      ],
      "metadata": {
        "id": "YIDvgSBteboi"
      },
      "execution_count": null,
      "outputs": []
    },
    {
      "cell_type": "code",
      "source": [
        "data.info()"
      ],
      "metadata": {
        "id": "iMpYuWg5mCFn"
      },
      "execution_count": null,
      "outputs": []
    },
    {
      "cell_type": "code",
      "source": [
        "data.to_csv('Final_Data.csv')"
      ],
      "metadata": {
        "id": "l5NWYX7MTyl-"
      },
      "execution_count": null,
      "outputs": []
    },
    {
      "cell_type": "markdown",
      "source": [
        "AFTER PREPROCESSING"
      ],
      "metadata": {
        "id": "YEBQFsLFmcxj"
      }
    },
    {
      "cell_type": "code",
      "source": [
        "data.info()"
      ],
      "metadata": {
        "id": "apdwnylKmEAD"
      },
      "execution_count": null,
      "outputs": []
    },
    {
      "cell_type": "code",
      "source": [
        "data.describe()"
      ],
      "metadata": {
        "id": "Qcw2MNtPshuY"
      },
      "execution_count": null,
      "outputs": []
    },
    {
      "cell_type": "code",
      "source": [
        "data.shape"
      ],
      "metadata": {
        "id": "0oNV2u56micy"
      },
      "execution_count": null,
      "outputs": []
    },
    {
      "cell_type": "code",
      "source": [
        "x=data.drop('Class/ASD',axis=1)\n",
        "y=data['Class/ASD']"
      ],
      "metadata": {
        "id": "drFJMiIrn1xk"
      },
      "execution_count": null,
      "outputs": []
    },
    {
      "cell_type": "code",
      "source": [
        "from sklearn.model_selection import train_test_split\n",
        "x_train, x_test, y_train, y_test = train_test_split(x, y, test_size=0.2, random_state=42)"
      ],
      "metadata": {
        "id": "rPXzipyUmjoC"
      },
      "execution_count": null,
      "outputs": []
    },
    {
      "cell_type": "code",
      "source": [
        "x_train.to_csv('x_train.csv')"
      ],
      "metadata": {
        "id": "Ev6HOj8bEQRq"
      },
      "execution_count": null,
      "outputs": []
    },
    {
      "cell_type": "code",
      "source": [
        "x_train"
      ],
      "metadata": {
        "id": "ZVTc2bOpoBkN"
      },
      "execution_count": null,
      "outputs": []
    },
    {
      "cell_type": "code",
      "source": [
        "y_train"
      ],
      "metadata": {
        "id": "3_PS0-C0oQSD"
      },
      "execution_count": null,
      "outputs": []
    },
    {
      "cell_type": "code",
      "source": [
        "y_train.to_csv('y_train.csv')"
      ],
      "metadata": {
        "id": "fWGeSZZHG1nR"
      },
      "execution_count": null,
      "outputs": []
    },
    {
      "cell_type": "markdown",
      "source": [
        "Logistic Regression"
      ],
      "metadata": {
        "id": "WX0010spnSOf"
      }
    },
    {
      "cell_type": "code",
      "source": [
        "lr_model = LogisticRegression()\n",
        "lr_model.fit(x_train, y_train)\n",
        "lr_predictions = lr_model.predict(x_test)\n",
        "lr_accuracy = accuracy_score(y_test, lr_predictions)\n",
        "print(f\"Logistic Regression Accuracy: {lr_accuracy:.2f}\")\n"
      ],
      "metadata": {
        "id": "pOsuSztynR6B"
      },
      "execution_count": null,
      "outputs": []
    },
    {
      "cell_type": "markdown",
      "source": [
        "Decision tree"
      ],
      "metadata": {
        "id": "NQs5nVV8nYi3"
      }
    },
    {
      "cell_type": "code",
      "source": [
        "from sklearn.tree import DecisionTreeClassifier\n",
        "\n",
        "# Create and train the model\n",
        "dt_model = DecisionTreeClassifier()\n",
        "dt_model.fit(x_train, y_train)\n",
        "\n",
        "# Make predictions\n",
        "dt_predictions = dt_model.predict(x_test)\n",
        "\n",
        "# Evaluate the model\n",
        "dt_accuracy = accuracy_score(y_test, dt_predictions)\n",
        "print(f\"Decision Tree Accuracy: {dt_accuracy:.2f}\")\n"
      ],
      "metadata": {
        "id": "ESnJDxXpnedf"
      },
      "execution_count": null,
      "outputs": []
    },
    {
      "cell_type": "markdown",
      "source": [
        "Random forest"
      ],
      "metadata": {
        "id": "JPeek4hjpoix"
      }
    },
    {
      "cell_type": "code",
      "source": [
        "from sklearn.ensemble import RandomForestClassifier\n",
        "\n",
        "# Create and train the model\n",
        "rf_model = RandomForestClassifier()\n",
        "rf_model.fit(x_train, y_train)\n",
        "\n",
        "# Make predictions\n",
        "rf_predictions = rf_model.predict(x_test)\n",
        "\n",
        "# Evaluate the model\n",
        "rf_accuracy = accuracy_score(y_test, rf_predictions)\n",
        "print(f\"Random Forest Accuracy: {rf_accuracy:.2f}\")\n"
      ],
      "metadata": {
        "id": "oeU8obEGpr9h"
      },
      "execution_count": null,
      "outputs": []
    },
    {
      "cell_type": "markdown",
      "source": [
        " Gradient Boosting (XGBoost):"
      ],
      "metadata": {
        "id": "CuLw_2_dpuGI"
      }
    },
    {
      "cell_type": "code",
      "source": [
        "import xgboost as xgb\n",
        "\n",
        "# Create and train the model\n",
        "xgb_model = xgb.XGBClassifier()\n",
        "xgb_model.fit(x_train, y_train)\n",
        "\n",
        "# Make predictions\n",
        "xgb_predictions = xgb_model.predict(x_test)\n",
        "\n",
        "# Evaluate the model\n",
        "xgb_accuracy = accuracy_score(y_test, xgb_predictions)\n",
        "print(f\"XGBoost Accuracy: {xgb_accuracy:.2f}\")\n"
      ],
      "metadata": {
        "id": "FFSEJjb9pwqd"
      },
      "execution_count": null,
      "outputs": []
    },
    {
      "cell_type": "markdown",
      "source": [
        "Support Vector Machines (SVM)"
      ],
      "metadata": {
        "id": "t9Rlw4lnp07B"
      }
    },
    {
      "cell_type": "code",
      "source": [
        "from sklearn.svm import SVC\n",
        "\n",
        "# Create and train the model\n",
        "svm_model = SVC(probability=True)\n",
        "svm_model.fit(x_train, y_train)\n",
        "\n",
        "# Make predictions\n",
        "svm_predictions = svm_model.predict(x_test)\n",
        "\n",
        "# Evaluate the model\n",
        "svm_accuracy = accuracy_score(y_test, svm_predictions)\n",
        "print(f\"SVM Accuracy: {svm_accuracy:.2f}\")\n"
      ],
      "metadata": {
        "id": "Y-0WB1Eapy7Q"
      },
      "execution_count": null,
      "outputs": []
    },
    {
      "cell_type": "markdown",
      "source": [
        "k-Nearest Neighbors (KNN):"
      ],
      "metadata": {
        "id": "DYAN6JFoqMuR"
      }
    },
    {
      "cell_type": "code",
      "source": [
        "from sklearn.neighbors import KNeighborsClassifier\n",
        "\n",
        "# Create and train the model\n",
        "knn_model = KNeighborsClassifier()\n",
        "knn_model.fit(x_train, y_train)\n",
        "\n",
        "# Make predictions\n",
        "knn_predictions = knn_model.predict(x_test)\n",
        "\n",
        "# Evaluate the model\n",
        "knn_accuracy = accuracy_score(y_test, knn_predictions)\n",
        "print(f\"K-Nearest Neighbors Accuracy: {knn_accuracy:.2f}\")\n"
      ],
      "metadata": {
        "id": "WJ2oAZEBqNjI"
      },
      "execution_count": null,
      "outputs": []
    },
    {
      "cell_type": "markdown",
      "source": [
        "Naive bayers"
      ],
      "metadata": {
        "id": "eS2L4Rb2ro9Y"
      }
    },
    {
      "cell_type": "code",
      "source": [
        "from sklearn.naive_bayes import MultinomialNB\n",
        "from sklearn.preprocessing import LabelEncoder\n",
        "nb_model = MultinomialNB()\n",
        "nb_model.fit(x_train, y_train)\n",
        "\n",
        "# Make predictions\n",
        "nb_predictions = nb_model.predict(x_test)\n",
        "\n",
        "# Evaluate the model\n",
        "nb_accuracy = accuracy_score(y_test, nb_predictions)\n",
        "print(f\"Naive Bayes Accuracy: {nb_accuracy:.2f}\")"
      ],
      "metadata": {
        "id": "G8eKzBAWrx7x"
      },
      "execution_count": null,
      "outputs": []
    },
    {
      "cell_type": "code",
      "source": [
        "accuraccy={}\n",
        "accuraccy['Logistic Regression']=lr_accuracy\n",
        "accuraccy['Decision tree']=dt_accuracy\n",
        "accuraccy['Random forest']=rf_accuracy\n",
        "accuraccy['SVM']=svm_accuracy\n",
        "accuraccy['KNN']=knn_accuracy\n",
        "accuraccy['Naive bayers']=nb_accuracy\n",
        "accuraccy['XGBoost']=xgb_accuracy"
      ],
      "metadata": {
        "id": "Aqj9_vvAUvCV"
      },
      "execution_count": null,
      "outputs": []
    },
    {
      "cell_type": "code",
      "source": [
        "models={}\n",
        "models['Logistic Regression']=lr_model\n",
        "models['Decision tree']=dt_model\n",
        "models['Random forest']=rf_model\n",
        "models['SVM']=svm_model\n",
        "models['KNN']=knn_model\n",
        "models['Naive bayers']=nb_model\n",
        "models['XGBoost']=xgb_model\n",
        "models['acc']=accuraccy"
      ],
      "metadata": {
        "id": "hsS3lItVxa5T"
      },
      "execution_count": null,
      "outputs": []
    },
    {
      "cell_type": "code",
      "source": [
        "models"
      ],
      "metadata": {
        "id": "FFHW5AIryQF9"
      },
      "execution_count": null,
      "outputs": []
    },
    {
      "cell_type": "code",
      "source": [
        "dbfile = open('Data_Models.pkl', 'wb')"
      ],
      "metadata": {
        "id": "iOgaFrrmyRjD"
      },
      "execution_count": null,
      "outputs": []
    },
    {
      "cell_type": "code",
      "source": [
        "pickle.dump(models, dbfile)\n",
        "dbfile.close()"
      ],
      "metadata": {
        "id": "m5Md8_wxy5H2"
      },
      "execution_count": null,
      "outputs": []
    },
    {
      "cell_type": "code",
      "source": [
        "k=list(x_test.to_numpy()[0])\n",
        "k"
      ],
      "metadata": {
        "id": "BQqSX14Vy-lE"
      },
      "execution_count": null,
      "outputs": []
    },
    {
      "cell_type": "code",
      "source": [
        "\"\"\"dbfile = open('Data_Models.pkl', 'rb')\n",
        "db = pickle.load(dbfile)\n",
        "for keys in db:\n",
        "     print(db[keys].predict(x_test))\n",
        "dbfile.close()\"\"\""
      ],
      "metadata": {
        "id": "Yz430Z6PzDd0"
      },
      "execution_count": null,
      "outputs": []
    },
    {
      "cell_type": "code",
      "source": [
        "x_train.values"
      ],
      "metadata": {
        "id": "R4_guVieGq1C"
      },
      "execution_count": null,
      "outputs": []
    },
    {
      "cell_type": "code",
      "source": [],
      "metadata": {
        "id": "QcZxKKeyGqcO"
      },
      "execution_count": null,
      "outputs": []
    },
    {
      "cell_type": "code",
      "source": [
        "for model in db:\n",
        "  try:\n",
        "    explainer = LimeTabularExplainer(x_train.values, mode=\"classification\", training_labels=y_train,\n",
        "                                    feature_names=x_train.columns, random_state=42)\n",
        "    instance_to_explain = x_test.iloc[0]\n",
        "    def predict_fn(x):\n",
        "        return db[model].predict_proba(x)\n",
        "    explanation = explainer.explain_instance(instance_to_explain.values, predict_fn, num_features=len(x_train.columns))\n",
        "    explanation.show_in_notebook()\n",
        "  except:\n",
        "    pass\n"
      ],
      "metadata": {
        "id": "StbUpIR1zxU3"
      },
      "execution_count": null,
      "outputs": []
    }
  ],
  "metadata": {
    "colab": {
      "provenance": []
    },
    "kernelspec": {
      "display_name": "Python 3",
      "name": "python3"
    },
    "language_info": {
      "name": "python"
    }
  },
  "nbformat": 4,
  "nbformat_minor": 0
}